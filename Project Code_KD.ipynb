{
 "cells": [
  {
   "cell_type": "code",
   "execution_count": 2,
   "metadata": {},
   "outputs": [],
   "source": [
    "#Loading all the needed Packages\n",
    "import pandas as pd\n",
    "import numpy as np\n"
   ]
  },
  {
   "cell_type": "code",
   "execution_count": 5,
   "metadata": {},
   "outputs": [],
   "source": [
    "# Load all CSV files\n",
    "Demand_Data_Normalized = pd.read_csv('Data\\ModelData\\Demand_YearlyDemandUtilityProfile_Normalized.csv', delimiter=',')\n",
    "Fuel_Cost_Data_Normalized = pd.read_csv('Data\\ModelData\\FuelCost_PriceDevelopment50years.csv', delimiter=',')\n",
    "Generation_Data_Normalized = pd.read_csv('Data\\ModelData\\VRE_YearlyGenerationProfile_Normalized.csv', delimiter=',')\n",
    "Generation_Asset_Data_Existing = pd.read_csv('Data\\ModelData\\Generators_AssetData_Existing.csv', delimiter=',')\n",
    "Demand_Unit_Data = pd.read_csv('Data\\ModelData\\Demand_UnitSpecificData.csv', delimiter=',')\n",
    "System_Demand = pd.read_csv('Data\\ModelData\\System_Demand.csv', delimiter=',')"
   ]
  }
 ],
 "metadata": {
  "kernelspec": {
   "display_name": "Python 3",
   "language": "python",
   "name": "python3"
  },
  "language_info": {
   "codemirror_mode": {
    "name": "ipython",
    "version": 3
   },
   "file_extension": ".py",
   "mimetype": "text/x-python",
   "name": "python",
   "nbconvert_exporter": "python",
   "pygments_lexer": "ipython3",
   "version": "3.11.9"
  }
 },
 "nbformat": 4,
 "nbformat_minor": 2
}
