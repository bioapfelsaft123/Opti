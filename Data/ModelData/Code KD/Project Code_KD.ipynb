{
 "cells": [
  {
   "cell_type": "code",
   "execution_count": 3,
   "metadata": {},
   "outputs": [],
   "source": [
    "#Loading all the needed Packages\n",
    "import pandas as pd\n",
    "import numpy as np\n",
    "import gurobipy as gp\n",
    "from gurobipy import GRB\n"
   ]
  },
  {
   "cell_type": "code",
   "execution_count": 5,
   "metadata": {},
   "outputs": [
    {
     "name": "stderr",
     "output_type": "stream",
     "text": [
      "<>:2: SyntaxWarning: invalid escape sequence '\\M'\n",
      "<>:3: SyntaxWarning: invalid escape sequence '\\M'\n",
      "<>:4: SyntaxWarning: invalid escape sequence '\\M'\n",
      "<>:5: SyntaxWarning: invalid escape sequence '\\M'\n",
      "<>:6: SyntaxWarning: invalid escape sequence '\\M'\n",
      "<>:7: SyntaxWarning: invalid escape sequence '\\M'\n",
      "<>:8: SyntaxWarning: invalid escape sequence '\\M'\n",
      "<>:2: SyntaxWarning: invalid escape sequence '\\M'\n",
      "<>:3: SyntaxWarning: invalid escape sequence '\\M'\n",
      "<>:4: SyntaxWarning: invalid escape sequence '\\M'\n",
      "<>:5: SyntaxWarning: invalid escape sequence '\\M'\n",
      "<>:6: SyntaxWarning: invalid escape sequence '\\M'\n",
      "<>:7: SyntaxWarning: invalid escape sequence '\\M'\n",
      "<>:8: SyntaxWarning: invalid escape sequence '\\M'\n",
      "C:\\Users\\leonr\\AppData\\Local\\Temp\\ipykernel_29724\\3896660493.py:2: SyntaxWarning: invalid escape sequence '\\M'\n",
      "  Demand_Data_Normalized = pd.read_csv('Data\\ModelData\\Demand_YearlyDemandUtilityProfile_Normalized.csv', delimiter=',')\n",
      "C:\\Users\\leonr\\AppData\\Local\\Temp\\ipykernel_29724\\3896660493.py:3: SyntaxWarning: invalid escape sequence '\\M'\n",
      "  Fuel_Cost_Data_Normalized = pd.read_csv('Data\\ModelData\\FuelCost_PriceDevelopment50years.csv', delimiter=',')\n",
      "C:\\Users\\leonr\\AppData\\Local\\Temp\\ipykernel_29724\\3896660493.py:4: SyntaxWarning: invalid escape sequence '\\M'\n",
      "  Generation_Data_Normalized = pd.read_csv('Data\\ModelData\\VRE_YearlyGenerationProfile_Normalized.csv', delimiter=',')\n",
      "C:\\Users\\leonr\\AppData\\Local\\Temp\\ipykernel_29724\\3896660493.py:5: SyntaxWarning: invalid escape sequence '\\M'\n",
      "  Generation_Asset_Data_Existing = pd.read_csv('Data\\ModelData\\Generators_AssetData_Existing.csv', delimiter=',')\n",
      "C:\\Users\\leonr\\AppData\\Local\\Temp\\ipykernel_29724\\3896660493.py:6: SyntaxWarning: invalid escape sequence '\\M'\n",
      "  Demand_Unit_Data = pd.read_csv('Data\\ModelData\\Demand_UnitSpecificData.csv', delimiter=',')\n",
      "C:\\Users\\leonr\\AppData\\Local\\Temp\\ipykernel_29724\\3896660493.py:7: SyntaxWarning: invalid escape sequence '\\M'\n",
      "  System_Demand = pd.read_csv('Data\\ModelData\\System_Demand.csv', delimiter=',')\n",
      "C:\\Users\\leonr\\AppData\\Local\\Temp\\ipykernel_29724\\3896660493.py:8: SyntaxWarning: invalid escape sequence '\\M'\n",
      "  TransmissionCapacity = pd.read_csv('Data\\ModelData\\Transmission Capacity.csv', delimiter=',')\n"
     ]
    },
    {
     "ename": "FileNotFoundError",
     "evalue": "[Errno 2] No such file or directory: 'Data\\\\ModelData\\\\Demand_YearlyDemandUtilityProfile_Normalized.csv'",
     "output_type": "error",
     "traceback": [
      "\u001b[1;31m---------------------------------------------------------------------------\u001b[0m",
      "\u001b[1;31mFileNotFoundError\u001b[0m                         Traceback (most recent call last)",
      "Cell \u001b[1;32mIn[5], line 2\u001b[0m\n\u001b[0;32m      1\u001b[0m \u001b[38;5;66;03m# Load all CSV files\u001b[39;00m\n\u001b[1;32m----> 2\u001b[0m Demand_Data_Normalized \u001b[38;5;241m=\u001b[39m \u001b[43mpd\u001b[49m\u001b[38;5;241;43m.\u001b[39;49m\u001b[43mread_csv\u001b[49m\u001b[43m(\u001b[49m\u001b[38;5;124;43m'\u001b[39;49m\u001b[38;5;124;43mData\u001b[39;49m\u001b[38;5;124;43m\\\u001b[39;49m\u001b[38;5;124;43mModelData\u001b[39;49m\u001b[38;5;124;43m\\\u001b[39;49m\u001b[38;5;124;43mDemand_YearlyDemandUtilityProfile_Normalized.csv\u001b[39;49m\u001b[38;5;124;43m'\u001b[39;49m\u001b[43m,\u001b[49m\u001b[43m \u001b[49m\u001b[43mdelimiter\u001b[49m\u001b[38;5;241;43m=\u001b[39;49m\u001b[38;5;124;43m'\u001b[39;49m\u001b[38;5;124;43m,\u001b[39;49m\u001b[38;5;124;43m'\u001b[39;49m\u001b[43m)\u001b[49m\n\u001b[0;32m      3\u001b[0m Fuel_Cost_Data_Normalized \u001b[38;5;241m=\u001b[39m pd\u001b[38;5;241m.\u001b[39mread_csv(\u001b[38;5;124m'\u001b[39m\u001b[38;5;124mData\u001b[39m\u001b[38;5;124m\\\u001b[39m\u001b[38;5;124mModelData\u001b[39m\u001b[38;5;124m\\\u001b[39m\u001b[38;5;124mFuelCost_PriceDevelopment50years.csv\u001b[39m\u001b[38;5;124m'\u001b[39m, delimiter\u001b[38;5;241m=\u001b[39m\u001b[38;5;124m'\u001b[39m\u001b[38;5;124m,\u001b[39m\u001b[38;5;124m'\u001b[39m)\n\u001b[0;32m      4\u001b[0m Generation_Data_Normalized \u001b[38;5;241m=\u001b[39m pd\u001b[38;5;241m.\u001b[39mread_csv(\u001b[38;5;124m'\u001b[39m\u001b[38;5;124mData\u001b[39m\u001b[38;5;124m\\\u001b[39m\u001b[38;5;124mModelData\u001b[39m\u001b[38;5;124m\\\u001b[39m\u001b[38;5;124mVRE_YearlyGenerationProfile_Normalized.csv\u001b[39m\u001b[38;5;124m'\u001b[39m, delimiter\u001b[38;5;241m=\u001b[39m\u001b[38;5;124m'\u001b[39m\u001b[38;5;124m,\u001b[39m\u001b[38;5;124m'\u001b[39m)\n",
      "File \u001b[1;32mc:\\Users\\leonr\\AppData\\Local\\Programs\\Python\\Python312\\Lib\\site-packages\\pandas\\io\\parsers\\readers.py:1026\u001b[0m, in \u001b[0;36mread_csv\u001b[1;34m(filepath_or_buffer, sep, delimiter, header, names, index_col, usecols, dtype, engine, converters, true_values, false_values, skipinitialspace, skiprows, skipfooter, nrows, na_values, keep_default_na, na_filter, verbose, skip_blank_lines, parse_dates, infer_datetime_format, keep_date_col, date_parser, date_format, dayfirst, cache_dates, iterator, chunksize, compression, thousands, decimal, lineterminator, quotechar, quoting, doublequote, escapechar, comment, encoding, encoding_errors, dialect, on_bad_lines, delim_whitespace, low_memory, memory_map, float_precision, storage_options, dtype_backend)\u001b[0m\n\u001b[0;32m   1013\u001b[0m kwds_defaults \u001b[38;5;241m=\u001b[39m _refine_defaults_read(\n\u001b[0;32m   1014\u001b[0m     dialect,\n\u001b[0;32m   1015\u001b[0m     delimiter,\n\u001b[1;32m   (...)\u001b[0m\n\u001b[0;32m   1022\u001b[0m     dtype_backend\u001b[38;5;241m=\u001b[39mdtype_backend,\n\u001b[0;32m   1023\u001b[0m )\n\u001b[0;32m   1024\u001b[0m kwds\u001b[38;5;241m.\u001b[39mupdate(kwds_defaults)\n\u001b[1;32m-> 1026\u001b[0m \u001b[38;5;28;01mreturn\u001b[39;00m \u001b[43m_read\u001b[49m\u001b[43m(\u001b[49m\u001b[43mfilepath_or_buffer\u001b[49m\u001b[43m,\u001b[49m\u001b[43m \u001b[49m\u001b[43mkwds\u001b[49m\u001b[43m)\u001b[49m\n",
      "File \u001b[1;32mc:\\Users\\leonr\\AppData\\Local\\Programs\\Python\\Python312\\Lib\\site-packages\\pandas\\io\\parsers\\readers.py:620\u001b[0m, in \u001b[0;36m_read\u001b[1;34m(filepath_or_buffer, kwds)\u001b[0m\n\u001b[0;32m    617\u001b[0m _validate_names(kwds\u001b[38;5;241m.\u001b[39mget(\u001b[38;5;124m\"\u001b[39m\u001b[38;5;124mnames\u001b[39m\u001b[38;5;124m\"\u001b[39m, \u001b[38;5;28;01mNone\u001b[39;00m))\n\u001b[0;32m    619\u001b[0m \u001b[38;5;66;03m# Create the parser.\u001b[39;00m\n\u001b[1;32m--> 620\u001b[0m parser \u001b[38;5;241m=\u001b[39m \u001b[43mTextFileReader\u001b[49m\u001b[43m(\u001b[49m\u001b[43mfilepath_or_buffer\u001b[49m\u001b[43m,\u001b[49m\u001b[43m \u001b[49m\u001b[38;5;241;43m*\u001b[39;49m\u001b[38;5;241;43m*\u001b[39;49m\u001b[43mkwds\u001b[49m\u001b[43m)\u001b[49m\n\u001b[0;32m    622\u001b[0m \u001b[38;5;28;01mif\u001b[39;00m chunksize \u001b[38;5;129;01mor\u001b[39;00m iterator:\n\u001b[0;32m    623\u001b[0m     \u001b[38;5;28;01mreturn\u001b[39;00m parser\n",
      "File \u001b[1;32mc:\\Users\\leonr\\AppData\\Local\\Programs\\Python\\Python312\\Lib\\site-packages\\pandas\\io\\parsers\\readers.py:1620\u001b[0m, in \u001b[0;36mTextFileReader.__init__\u001b[1;34m(self, f, engine, **kwds)\u001b[0m\n\u001b[0;32m   1617\u001b[0m     \u001b[38;5;28mself\u001b[39m\u001b[38;5;241m.\u001b[39moptions[\u001b[38;5;124m\"\u001b[39m\u001b[38;5;124mhas_index_names\u001b[39m\u001b[38;5;124m\"\u001b[39m] \u001b[38;5;241m=\u001b[39m kwds[\u001b[38;5;124m\"\u001b[39m\u001b[38;5;124mhas_index_names\u001b[39m\u001b[38;5;124m\"\u001b[39m]\n\u001b[0;32m   1619\u001b[0m \u001b[38;5;28mself\u001b[39m\u001b[38;5;241m.\u001b[39mhandles: IOHandles \u001b[38;5;241m|\u001b[39m \u001b[38;5;28;01mNone\u001b[39;00m \u001b[38;5;241m=\u001b[39m \u001b[38;5;28;01mNone\u001b[39;00m\n\u001b[1;32m-> 1620\u001b[0m \u001b[38;5;28mself\u001b[39m\u001b[38;5;241m.\u001b[39m_engine \u001b[38;5;241m=\u001b[39m \u001b[38;5;28;43mself\u001b[39;49m\u001b[38;5;241;43m.\u001b[39;49m\u001b[43m_make_engine\u001b[49m\u001b[43m(\u001b[49m\u001b[43mf\u001b[49m\u001b[43m,\u001b[49m\u001b[43m \u001b[49m\u001b[38;5;28;43mself\u001b[39;49m\u001b[38;5;241;43m.\u001b[39;49m\u001b[43mengine\u001b[49m\u001b[43m)\u001b[49m\n",
      "File \u001b[1;32mc:\\Users\\leonr\\AppData\\Local\\Programs\\Python\\Python312\\Lib\\site-packages\\pandas\\io\\parsers\\readers.py:1880\u001b[0m, in \u001b[0;36mTextFileReader._make_engine\u001b[1;34m(self, f, engine)\u001b[0m\n\u001b[0;32m   1878\u001b[0m     \u001b[38;5;28;01mif\u001b[39;00m \u001b[38;5;124m\"\u001b[39m\u001b[38;5;124mb\u001b[39m\u001b[38;5;124m\"\u001b[39m \u001b[38;5;129;01mnot\u001b[39;00m \u001b[38;5;129;01min\u001b[39;00m mode:\n\u001b[0;32m   1879\u001b[0m         mode \u001b[38;5;241m+\u001b[39m\u001b[38;5;241m=\u001b[39m \u001b[38;5;124m\"\u001b[39m\u001b[38;5;124mb\u001b[39m\u001b[38;5;124m\"\u001b[39m\n\u001b[1;32m-> 1880\u001b[0m \u001b[38;5;28mself\u001b[39m\u001b[38;5;241m.\u001b[39mhandles \u001b[38;5;241m=\u001b[39m \u001b[43mget_handle\u001b[49m\u001b[43m(\u001b[49m\n\u001b[0;32m   1881\u001b[0m \u001b[43m    \u001b[49m\u001b[43mf\u001b[49m\u001b[43m,\u001b[49m\n\u001b[0;32m   1882\u001b[0m \u001b[43m    \u001b[49m\u001b[43mmode\u001b[49m\u001b[43m,\u001b[49m\n\u001b[0;32m   1883\u001b[0m \u001b[43m    \u001b[49m\u001b[43mencoding\u001b[49m\u001b[38;5;241;43m=\u001b[39;49m\u001b[38;5;28;43mself\u001b[39;49m\u001b[38;5;241;43m.\u001b[39;49m\u001b[43moptions\u001b[49m\u001b[38;5;241;43m.\u001b[39;49m\u001b[43mget\u001b[49m\u001b[43m(\u001b[49m\u001b[38;5;124;43m\"\u001b[39;49m\u001b[38;5;124;43mencoding\u001b[39;49m\u001b[38;5;124;43m\"\u001b[39;49m\u001b[43m,\u001b[49m\u001b[43m \u001b[49m\u001b[38;5;28;43;01mNone\u001b[39;49;00m\u001b[43m)\u001b[49m\u001b[43m,\u001b[49m\n\u001b[0;32m   1884\u001b[0m \u001b[43m    \u001b[49m\u001b[43mcompression\u001b[49m\u001b[38;5;241;43m=\u001b[39;49m\u001b[38;5;28;43mself\u001b[39;49m\u001b[38;5;241;43m.\u001b[39;49m\u001b[43moptions\u001b[49m\u001b[38;5;241;43m.\u001b[39;49m\u001b[43mget\u001b[49m\u001b[43m(\u001b[49m\u001b[38;5;124;43m\"\u001b[39;49m\u001b[38;5;124;43mcompression\u001b[39;49m\u001b[38;5;124;43m\"\u001b[39;49m\u001b[43m,\u001b[49m\u001b[43m \u001b[49m\u001b[38;5;28;43;01mNone\u001b[39;49;00m\u001b[43m)\u001b[49m\u001b[43m,\u001b[49m\n\u001b[0;32m   1885\u001b[0m \u001b[43m    \u001b[49m\u001b[43mmemory_map\u001b[49m\u001b[38;5;241;43m=\u001b[39;49m\u001b[38;5;28;43mself\u001b[39;49m\u001b[38;5;241;43m.\u001b[39;49m\u001b[43moptions\u001b[49m\u001b[38;5;241;43m.\u001b[39;49m\u001b[43mget\u001b[49m\u001b[43m(\u001b[49m\u001b[38;5;124;43m\"\u001b[39;49m\u001b[38;5;124;43mmemory_map\u001b[39;49m\u001b[38;5;124;43m\"\u001b[39;49m\u001b[43m,\u001b[49m\u001b[43m \u001b[49m\u001b[38;5;28;43;01mFalse\u001b[39;49;00m\u001b[43m)\u001b[49m\u001b[43m,\u001b[49m\n\u001b[0;32m   1886\u001b[0m \u001b[43m    \u001b[49m\u001b[43mis_text\u001b[49m\u001b[38;5;241;43m=\u001b[39;49m\u001b[43mis_text\u001b[49m\u001b[43m,\u001b[49m\n\u001b[0;32m   1887\u001b[0m \u001b[43m    \u001b[49m\u001b[43merrors\u001b[49m\u001b[38;5;241;43m=\u001b[39;49m\u001b[38;5;28;43mself\u001b[39;49m\u001b[38;5;241;43m.\u001b[39;49m\u001b[43moptions\u001b[49m\u001b[38;5;241;43m.\u001b[39;49m\u001b[43mget\u001b[49m\u001b[43m(\u001b[49m\u001b[38;5;124;43m\"\u001b[39;49m\u001b[38;5;124;43mencoding_errors\u001b[39;49m\u001b[38;5;124;43m\"\u001b[39;49m\u001b[43m,\u001b[49m\u001b[43m \u001b[49m\u001b[38;5;124;43m\"\u001b[39;49m\u001b[38;5;124;43mstrict\u001b[39;49m\u001b[38;5;124;43m\"\u001b[39;49m\u001b[43m)\u001b[49m\u001b[43m,\u001b[49m\n\u001b[0;32m   1888\u001b[0m \u001b[43m    \u001b[49m\u001b[43mstorage_options\u001b[49m\u001b[38;5;241;43m=\u001b[39;49m\u001b[38;5;28;43mself\u001b[39;49m\u001b[38;5;241;43m.\u001b[39;49m\u001b[43moptions\u001b[49m\u001b[38;5;241;43m.\u001b[39;49m\u001b[43mget\u001b[49m\u001b[43m(\u001b[49m\u001b[38;5;124;43m\"\u001b[39;49m\u001b[38;5;124;43mstorage_options\u001b[39;49m\u001b[38;5;124;43m\"\u001b[39;49m\u001b[43m,\u001b[49m\u001b[43m \u001b[49m\u001b[38;5;28;43;01mNone\u001b[39;49;00m\u001b[43m)\u001b[49m\u001b[43m,\u001b[49m\n\u001b[0;32m   1889\u001b[0m \u001b[43m\u001b[49m\u001b[43m)\u001b[49m\n\u001b[0;32m   1890\u001b[0m \u001b[38;5;28;01massert\u001b[39;00m \u001b[38;5;28mself\u001b[39m\u001b[38;5;241m.\u001b[39mhandles \u001b[38;5;129;01mis\u001b[39;00m \u001b[38;5;129;01mnot\u001b[39;00m \u001b[38;5;28;01mNone\u001b[39;00m\n\u001b[0;32m   1891\u001b[0m f \u001b[38;5;241m=\u001b[39m \u001b[38;5;28mself\u001b[39m\u001b[38;5;241m.\u001b[39mhandles\u001b[38;5;241m.\u001b[39mhandle\n",
      "File \u001b[1;32mc:\\Users\\leonr\\AppData\\Local\\Programs\\Python\\Python312\\Lib\\site-packages\\pandas\\io\\common.py:873\u001b[0m, in \u001b[0;36mget_handle\u001b[1;34m(path_or_buf, mode, encoding, compression, memory_map, is_text, errors, storage_options)\u001b[0m\n\u001b[0;32m    868\u001b[0m \u001b[38;5;28;01melif\u001b[39;00m \u001b[38;5;28misinstance\u001b[39m(handle, \u001b[38;5;28mstr\u001b[39m):\n\u001b[0;32m    869\u001b[0m     \u001b[38;5;66;03m# Check whether the filename is to be opened in binary mode.\u001b[39;00m\n\u001b[0;32m    870\u001b[0m     \u001b[38;5;66;03m# Binary mode does not support 'encoding' and 'newline'.\u001b[39;00m\n\u001b[0;32m    871\u001b[0m     \u001b[38;5;28;01mif\u001b[39;00m ioargs\u001b[38;5;241m.\u001b[39mencoding \u001b[38;5;129;01mand\u001b[39;00m \u001b[38;5;124m\"\u001b[39m\u001b[38;5;124mb\u001b[39m\u001b[38;5;124m\"\u001b[39m \u001b[38;5;129;01mnot\u001b[39;00m \u001b[38;5;129;01min\u001b[39;00m ioargs\u001b[38;5;241m.\u001b[39mmode:\n\u001b[0;32m    872\u001b[0m         \u001b[38;5;66;03m# Encoding\u001b[39;00m\n\u001b[1;32m--> 873\u001b[0m         handle \u001b[38;5;241m=\u001b[39m \u001b[38;5;28;43mopen\u001b[39;49m\u001b[43m(\u001b[49m\n\u001b[0;32m    874\u001b[0m \u001b[43m            \u001b[49m\u001b[43mhandle\u001b[49m\u001b[43m,\u001b[49m\n\u001b[0;32m    875\u001b[0m \u001b[43m            \u001b[49m\u001b[43mioargs\u001b[49m\u001b[38;5;241;43m.\u001b[39;49m\u001b[43mmode\u001b[49m\u001b[43m,\u001b[49m\n\u001b[0;32m    876\u001b[0m \u001b[43m            \u001b[49m\u001b[43mencoding\u001b[49m\u001b[38;5;241;43m=\u001b[39;49m\u001b[43mioargs\u001b[49m\u001b[38;5;241;43m.\u001b[39;49m\u001b[43mencoding\u001b[49m\u001b[43m,\u001b[49m\n\u001b[0;32m    877\u001b[0m \u001b[43m            \u001b[49m\u001b[43merrors\u001b[49m\u001b[38;5;241;43m=\u001b[39;49m\u001b[43merrors\u001b[49m\u001b[43m,\u001b[49m\n\u001b[0;32m    878\u001b[0m \u001b[43m            \u001b[49m\u001b[43mnewline\u001b[49m\u001b[38;5;241;43m=\u001b[39;49m\u001b[38;5;124;43m\"\u001b[39;49m\u001b[38;5;124;43m\"\u001b[39;49m\u001b[43m,\u001b[49m\n\u001b[0;32m    879\u001b[0m \u001b[43m        \u001b[49m\u001b[43m)\u001b[49m\n\u001b[0;32m    880\u001b[0m     \u001b[38;5;28;01melse\u001b[39;00m:\n\u001b[0;32m    881\u001b[0m         \u001b[38;5;66;03m# Binary mode\u001b[39;00m\n\u001b[0;32m    882\u001b[0m         handle \u001b[38;5;241m=\u001b[39m \u001b[38;5;28mopen\u001b[39m(handle, ioargs\u001b[38;5;241m.\u001b[39mmode)\n",
      "\u001b[1;31mFileNotFoundError\u001b[0m: [Errno 2] No such file or directory: 'Data\\\\ModelData\\\\Demand_YearlyDemandUtilityProfile_Normalized.csv'"
     ]
    }
   ],
   "source": [
    "# Load all CSV files\n",
    "Demand_Data_Normalized = pd.read_csv('Data\\ModelData\\Demand_YearlyDemandUtilityProfile_Normalized.csv', delimiter=',')\n",
    "Fuel_Cost_Data_Normalized = pd.read_csv('Data\\ModelData\\FuelCost_PriceDevelopment50years.csv', delimiter=',')\n",
    "Generation_Data_Normalized = pd.read_csv('Data\\ModelData\\VRE_YearlyGenerationProfile_Normalized.csv', delimiter=',')\n",
    "Generation_Asset_Data_Existing = pd.read_csv('Data\\ModelData\\Generators_AssetData_Existing.csv', delimiter=',')\n",
    "Demand_Unit_Data = pd.read_csv('Data\\ModelData\\Demand_UnitSpecificData.csv', delimiter=',')\n",
    "System_Demand = pd.read_csv('Data\\ModelData\\System_Demand.csv', delimiter=',')\n",
    "TransmissionCapacity = pd.read_csv('Data\\ModelData\\Transmission Capacity.csv', delimiter=',')"
   ]
  },
  {
   "cell_type": "markdown",
   "metadata": {},
   "source": [
    "## Problem 1 - Market clearing as price taker where investment does not influence the market clearing"
   ]
  },
  {
   "cell_type": "code",
   "execution_count": null,
   "metadata": {},
   "outputs": [],
   "source": [
    "#Creating a function for the market clearing\n",
    "\n",
    "def MarketClearingProblem1(Demand_Data_Normalized,\n",
    "                           Fuel_Cost_Data_Normalized,\n",
    "                           Generation_Data_Normalized,\n",
    "                           Generation_Asset_Data_Existing,\n",
    "                           Demand_Unit_Data,\n",
    "                           System_Demand,Season):\n",
    "    model = gp.Model(\"MarketClearingProblem1\")\n",
    "\n",
    "    #Defining some iput data\n",
    "\n",
    "    #Define the number of generators by taking the length of the Generation_Asset_Data_Existing file\n",
    "    Number_of_Generators = len(Generation_Asset_Data_Existing)\n",
    "    Number_of_Price_Zones = 2\n",
    "    Number_of_Demand_Units = len(Demand_Unit_Data)\n",
    "    Number_of_Hours = 24\n",
    "\n",
    "    #Data Handling\n",
    "\n",
    "    #Creating a data frame that contains the demand utility for each demand unit for the season that is modeled\n",
    "    #Inializing an empty data frame, with 24 hours as columns and number of demand units as rows\n",
    "\n",
    "    Demand_Utility = pd.DataFrame(index=range(len(Demand_Unit_Data)), columns=[f\"Hour{i}\" for i in range(Number_of_Hours)])\n",
    "    \n",
    "    for a in range(len(Demand_Unit_Data)):\n",
    "        LoadType = Demand_Unit_Data['LoadType'][a]\n",
    "        for b in range(len(Demand_Data_Normalized)):\n",
    "            Season_filtered_Demand_Data = Demand_Data_Normalized[Demand_Data_Normalized['Season'] == season]\n",
    "            Demand_Utility[:,Season_filtered_Demand_Data[LoadType]]\n",
    "            \n",
    "                Demand_Unit_Data['Utility'] = Demand_Data_Normalized['U']\n",
    "\n",
    "    #-----------------------------------------------------------------------------------------------------------------\n",
    "\n",
    "    #Defining the decision variables\n",
    "\n",
    "    # Defining a variable for the generators day ahead bid\n",
    "    Gen_DABid = model.addVars(Number_of_Generators, vtype=GRB.CONTINUOUS, name=\"Gen_DABid\")\n",
    "     # Defining a variable for the demand day ahead bid\n",
    "    Dem_DABid = model.addVars(Number_of_Demand_Units, vtype=GRB.CONTINUOUS, name=\"Dem_DABid\")\n",
    "    # Define voltage angle variables for each zone\n",
    "    Voltage_Angle = model.addVars(Number_of_Price_Zones, vtype=GRB.CONTINUOUS, name=\"Voltage_Angle\")\n",
    "    # Define power flow variables (as before, but now dependent on voltage angles)\n",
    "    Power_Flow = model.addVars(len(Transmission_Capacity), vtype=GRB.CONTINUOUS, lb=-GRB.INFINITY, name=\"Power_Flow\")\n",
    "    \n",
    "    #-----------------------------------------------------------------------------------------------------------------\n",
    "\n",
    "    #Defining objective function\n",
    "\n",
    "    #Objective function that maximizes social welfare\n",
    "    objective = (gp.quicksum(Generation_Asset_Data_Existing['C_i ($/MWh)'][g] * Gen_DABid[g] for g in range(Number_of_Generators)) \n",
    "                - gp.quicksum(Dem['C_i ($/MWh)'][g] * Gen_DABid[g] for g in range(Number_of_Generators)))\n",
    "    model.setObjective(objective, GRB.MINIMIZE)\n",
    "    \n",
    "    # Add slack bus constraint: Fix the voltage angle of node 1 (or any other node) to 0 degrees\n",
    "    model.addConstr(Voltage_Angle[0] == 0, name=\"Slack_Bus\")\n",
    "\n",
    "\n"
   ]
  },
  {
   "cell_type": "code",
   "execution_count": 13,
   "metadata": {},
   "outputs": [],
   "source": [
    "df = pd.DataFrame(index=range(len(Demand_Unit_Data)), columns=[f\"Hour{i}\" for i in range(Number_of_Hours)])"
   ]
  },
  {
   "cell_type": "code",
   "execution_count": 17,
   "metadata": {},
   "outputs": [],
   "source": [
    "\n",
    "\n",
    "Season_filtered_Demand_Data = Demand_Data_Normalized[Demand_Data_Normalized['Season'] == season]"
   ]
  },
  {
   "cell_type": "code",
   "execution_count": 22,
   "metadata": {},
   "outputs": [
    {
     "ename": "KeyError",
     "evalue": "'LoadType'",
     "output_type": "error",
     "traceback": [
      "\u001b[1;31m---------------------------------------------------------------------------\u001b[0m",
      "\u001b[1;31mKeyError\u001b[0m                                  Traceback (most recent call last)",
      "File \u001b[1;32m~\\AppData\\Local\\Packages\\PythonSoftwareFoundation.Python.3.11_qbz5n2kfra8p0\\LocalCache\\local-packages\\Python311\\site-packages\\pandas\\core\\indexes\\base.py:3805\u001b[0m, in \u001b[0;36mIndex.get_loc\u001b[1;34m(self, key)\u001b[0m\n\u001b[0;32m   3804\u001b[0m \u001b[38;5;28;01mtry\u001b[39;00m:\n\u001b[1;32m-> 3805\u001b[0m     \u001b[38;5;28;01mreturn\u001b[39;00m \u001b[38;5;28;43mself\u001b[39;49m\u001b[38;5;241;43m.\u001b[39;49m\u001b[43m_engine\u001b[49m\u001b[38;5;241;43m.\u001b[39;49m\u001b[43mget_loc\u001b[49m\u001b[43m(\u001b[49m\u001b[43mcasted_key\u001b[49m\u001b[43m)\u001b[49m\n\u001b[0;32m   3806\u001b[0m \u001b[38;5;28;01mexcept\u001b[39;00m \u001b[38;5;167;01mKeyError\u001b[39;00m \u001b[38;5;28;01mas\u001b[39;00m err:\n",
      "File \u001b[1;32mindex.pyx:167\u001b[0m, in \u001b[0;36mpandas._libs.index.IndexEngine.get_loc\u001b[1;34m()\u001b[0m\n",
      "File \u001b[1;32mindex.pyx:196\u001b[0m, in \u001b[0;36mpandas._libs.index.IndexEngine.get_loc\u001b[1;34m()\u001b[0m\n",
      "File \u001b[1;32mpandas\\\\_libs\\\\hashtable_class_helper.pxi:7081\u001b[0m, in \u001b[0;36mpandas._libs.hashtable.PyObjectHashTable.get_item\u001b[1;34m()\u001b[0m\n",
      "File \u001b[1;32mpandas\\\\_libs\\\\hashtable_class_helper.pxi:7089\u001b[0m, in \u001b[0;36mpandas._libs.hashtable.PyObjectHashTable.get_item\u001b[1;34m()\u001b[0m\n",
      "\u001b[1;31mKeyError\u001b[0m: 'LoadType'",
      "\nThe above exception was the direct cause of the following exception:\n",
      "\u001b[1;31mKeyError\u001b[0m                                  Traceback (most recent call last)",
      "Cell \u001b[1;32mIn[22], line 1\u001b[0m\n\u001b[1;32m----> 1\u001b[0m \u001b[43mSeason_filtered_Demand_Data\u001b[49m\u001b[43m[\u001b[49m\u001b[38;5;124;43m'\u001b[39;49m\u001b[38;5;124;43mLoadType\u001b[39;49m\u001b[38;5;124;43m'\u001b[39;49m\u001b[43m]\u001b[49m\n",
      "File \u001b[1;32m~\\AppData\\Local\\Packages\\PythonSoftwareFoundation.Python.3.11_qbz5n2kfra8p0\\LocalCache\\local-packages\\Python311\\site-packages\\pandas\\core\\frame.py:4102\u001b[0m, in \u001b[0;36mDataFrame.__getitem__\u001b[1;34m(self, key)\u001b[0m\n\u001b[0;32m   4100\u001b[0m \u001b[38;5;28;01mif\u001b[39;00m \u001b[38;5;28mself\u001b[39m\u001b[38;5;241m.\u001b[39mcolumns\u001b[38;5;241m.\u001b[39mnlevels \u001b[38;5;241m>\u001b[39m \u001b[38;5;241m1\u001b[39m:\n\u001b[0;32m   4101\u001b[0m     \u001b[38;5;28;01mreturn\u001b[39;00m \u001b[38;5;28mself\u001b[39m\u001b[38;5;241m.\u001b[39m_getitem_multilevel(key)\n\u001b[1;32m-> 4102\u001b[0m indexer \u001b[38;5;241m=\u001b[39m \u001b[38;5;28;43mself\u001b[39;49m\u001b[38;5;241;43m.\u001b[39;49m\u001b[43mcolumns\u001b[49m\u001b[38;5;241;43m.\u001b[39;49m\u001b[43mget_loc\u001b[49m\u001b[43m(\u001b[49m\u001b[43mkey\u001b[49m\u001b[43m)\u001b[49m\n\u001b[0;32m   4103\u001b[0m \u001b[38;5;28;01mif\u001b[39;00m is_integer(indexer):\n\u001b[0;32m   4104\u001b[0m     indexer \u001b[38;5;241m=\u001b[39m [indexer]\n",
      "File \u001b[1;32m~\\AppData\\Local\\Packages\\PythonSoftwareFoundation.Python.3.11_qbz5n2kfra8p0\\LocalCache\\local-packages\\Python311\\site-packages\\pandas\\core\\indexes\\base.py:3812\u001b[0m, in \u001b[0;36mIndex.get_loc\u001b[1;34m(self, key)\u001b[0m\n\u001b[0;32m   3807\u001b[0m     \u001b[38;5;28;01mif\u001b[39;00m \u001b[38;5;28misinstance\u001b[39m(casted_key, \u001b[38;5;28mslice\u001b[39m) \u001b[38;5;129;01mor\u001b[39;00m (\n\u001b[0;32m   3808\u001b[0m         \u001b[38;5;28misinstance\u001b[39m(casted_key, abc\u001b[38;5;241m.\u001b[39mIterable)\n\u001b[0;32m   3809\u001b[0m         \u001b[38;5;129;01mand\u001b[39;00m \u001b[38;5;28many\u001b[39m(\u001b[38;5;28misinstance\u001b[39m(x, \u001b[38;5;28mslice\u001b[39m) \u001b[38;5;28;01mfor\u001b[39;00m x \u001b[38;5;129;01min\u001b[39;00m casted_key)\n\u001b[0;32m   3810\u001b[0m     ):\n\u001b[0;32m   3811\u001b[0m         \u001b[38;5;28;01mraise\u001b[39;00m InvalidIndexError(key)\n\u001b[1;32m-> 3812\u001b[0m     \u001b[38;5;28;01mraise\u001b[39;00m \u001b[38;5;167;01mKeyError\u001b[39;00m(key) \u001b[38;5;28;01mfrom\u001b[39;00m \u001b[38;5;21;01merr\u001b[39;00m\n\u001b[0;32m   3813\u001b[0m \u001b[38;5;28;01mexcept\u001b[39;00m \u001b[38;5;167;01mTypeError\u001b[39;00m:\n\u001b[0;32m   3814\u001b[0m     \u001b[38;5;66;03m# If we have a listlike key, _check_indexing_error will raise\u001b[39;00m\n\u001b[0;32m   3815\u001b[0m     \u001b[38;5;66;03m#  InvalidIndexError. Otherwise we fall through and re-raise\u001b[39;00m\n\u001b[0;32m   3816\u001b[0m     \u001b[38;5;66;03m#  the TypeError.\u001b[39;00m\n\u001b[0;32m   3817\u001b[0m     \u001b[38;5;28mself\u001b[39m\u001b[38;5;241m.\u001b[39m_check_indexing_error(key)\n",
      "\u001b[1;31mKeyError\u001b[0m: 'LoadType'"
     ]
    }
   ],
   "source": [
    "Season_filtered_Demand_Data['LoadType']"
   ]
  },
  {
   "cell_type": "code",
   "execution_count": 19,
   "metadata": {},
   "outputs": [],
   "source": [
    "LoadType = 'D_residential'"
   ]
  },
  {
   "cell_type": "code",
   "execution_count": null,
   "metadata": {},
   "outputs": [
    {
     "name": "stdout",
     "output_type": "stream",
     "text": [
      "      Hour_1    Hour_2    Hour_3    Hour_4    Hour_5    Hour_6    Hour_7  \\\n",
      "0   0.734934  0.716599  0.716209  0.731226  0.759359  0.757673  0.758828   \n",
      "1   1.000000  1.000000  1.000000  1.000000  1.000000  1.000000  1.000000   \n",
      "2   0.000000  0.000000  0.000000  0.000000  0.000000  0.000000  0.300000   \n",
      "3   0.734934  0.716599  0.716209  0.731226  0.759359  0.757673  0.758828   \n",
      "4   1.000000  1.000000  1.000000  1.000000  1.000000  1.000000  1.000000   \n",
      "5   0.000000  0.000000  0.000000  0.000000  0.000000  0.000000  0.300000   \n",
      "6   0.734934  0.716599  0.716209  0.731226  0.759359  0.757673  0.758828   \n",
      "7   1.000000  1.000000  1.000000  1.000000  1.000000  1.000000  1.000000   \n",
      "8   0.000000  0.000000  0.000000  0.000000  0.000000  0.000000  0.300000   \n",
      "9   0.734934  0.716599  0.716209  0.731226  0.759359  0.757673  0.758828   \n",
      "10  1.000000  1.000000  1.000000  1.000000  1.000000  1.000000  1.000000   \n",
      "11  0.000000  0.000000  0.000000  0.000000  0.000000  0.000000  0.300000   \n",
      "12  0.734934  0.716599  0.716209  0.731226  0.759359  0.757673  0.758828   \n",
      "13  1.000000  1.000000  1.000000  1.000000  1.000000  1.000000  1.000000   \n",
      "14  0.000000  0.000000  0.000000  0.000000  0.000000  0.000000  0.300000   \n",
      "15  0.734934  0.716599  0.716209  0.731226  0.759359  0.757673  0.758828   \n",
      "16  1.000000  1.000000  1.000000  1.000000  1.000000  1.000000  1.000000   \n",
      "\n",
      "     Hour_8    Hour_9   Hour_10  ...   Hour_18  Hour_19   Hour_20  Hour_21  \\\n",
      "0   0.75743  0.754648  0.755763  ...  0.949861  0.95302  0.933945      1.0   \n",
      "1   1.00000  1.000000  1.000000  ...  1.000000  1.00000  1.000000      1.0   \n",
      "2   0.50000  0.700000  1.000000  ...  0.300000  0.00000  0.000000      0.0   \n",
      "3   0.75743  0.754648  0.755763  ...  0.949861  0.95302  0.933945      1.0   \n",
      "4   1.00000  1.000000  1.000000  ...  1.000000  1.00000  1.000000      1.0   \n",
      "5   0.50000  0.700000  1.000000  ...  0.300000  0.00000  0.000000      0.0   \n",
      "6   0.75743  0.754648  0.755763  ...  0.949861  0.95302  0.933945      1.0   \n",
      "7   1.00000  1.000000  1.000000  ...  1.000000  1.00000  1.000000      1.0   \n",
      "8   0.50000  0.700000  1.000000  ...  0.300000  0.00000  0.000000      0.0   \n",
      "9   0.75743  0.754648  0.755763  ...  0.949861  0.95302  0.933945      1.0   \n",
      "10  1.00000  1.000000  1.000000  ...  1.000000  1.00000  1.000000      1.0   \n",
      "11  0.50000  0.700000  1.000000  ...  0.300000  0.00000  0.000000      0.0   \n",
      "12  0.75743  0.754648  0.755763  ...  0.949861  0.95302  0.933945      1.0   \n",
      "13  1.00000  1.000000  1.000000  ...  1.000000  1.00000  1.000000      1.0   \n",
      "14  0.50000  0.700000  1.000000  ...  0.300000  0.00000  0.000000      0.0   \n",
      "15  0.75743  0.754648  0.755763  ...  0.949861  0.95302  0.933945      1.0   \n",
      "16  1.00000  1.000000  1.000000  ...  1.000000  1.00000  1.000000      1.0   \n",
      "\n",
      "    Hour_22   Hour_23   Hour_24  Load #  Zone         LoadType  \n",
      "0   0.98945  0.941296  0.906521     0.0   1.0    D_Residential  \n",
      "1   1.00000  1.000000  1.000000     1.0   2.0   D_IndustryBase  \n",
      "2   0.00000  0.000000  0.000000     2.0   1.0  D_ IndustryPeak  \n",
      "3   0.98945  0.941296  0.906521     3.0   2.0    D_Residential  \n",
      "4   1.00000  1.000000  1.000000     4.0   1.0   D_IndustryBase  \n",
      "5   0.00000  0.000000  0.000000     5.0   1.0  D_ IndustryPeak  \n",
      "6   0.98945  0.941296  0.906521     6.0   2.0    D_Residential  \n",
      "7   1.00000  1.000000  1.000000     7.0   1.0   D_IndustryBase  \n",
      "8   0.00000  0.000000  0.000000     8.0   2.0  D_ IndustryPeak  \n",
      "9   0.98945  0.941296  0.906521     9.0   1.0    D_Residential  \n",
      "10  1.00000  1.000000  1.000000    10.0   2.0   D_IndustryBase  \n",
      "11  0.00000  0.000000  0.000000    11.0   1.0  D_ IndustryPeak  \n",
      "12  0.98945  0.941296  0.906521    12.0   2.0    D_Residential  \n",
      "13  1.00000  1.000000  1.000000    13.0   1.0   D_IndustryBase  \n",
      "14  0.00000  0.000000  0.000000    14.0   2.0  D_ IndustryPeak  \n",
      "15  0.98945  0.941296  0.906521    15.0   1.0    D_Residential  \n",
      "16  1.00000  1.000000  1.000000    16.0   2.0   D_IndustryBase  \n",
      "\n",
      "[17 rows x 27 columns]\n"
     ]
    },
    {
     "name": "stderr",
     "output_type": "stream",
     "text": [
      "C:\\Users\\konst\\AppData\\Local\\Temp\\ipykernel_17768\\4264930273.py:31: FutureWarning: The behavior of DataFrame concatenation with empty or all-NA entries is deprecated. In a future version, this will no longer exclude empty or all-NA columns when determining the result dtypes. To retain the old behavior, exclude the relevant entries before the concat operation.\n",
      "  result_data = pd.concat([result_data, row_data], ignore_index=True)\n"
     ]
    }
   ],
   "source": [
    "import pandas as pd\n",
    "\n",
    "# Assume Demand_Unit_Data and Demand_Data_Normalized are already loaded DataFrames\n",
    "# season_value is provided externally\n",
    "\n",
    "# Filter Demand_Data_Normalized by the given season\n",
    "season_data = Demand_Data_Normalized[Demand_Data_Normalized['Season'] == season]\n",
    "\n",
    "# Create an empty DataFrame to store the results, with 24 columns for each hour\n",
    "result_data = pd.DataFrame(columns=[f'Hour_{i+1}' for i in range(24)])\n",
    "\n",
    "# Loop through each row in Demand_Unit_Data\n",
    "for _, row in Demand_Unit_Data.iterrows():\n",
    "    load_type = row['LoadType'].strip()  # Load type (e.g., 'U_Residential', 'U_IndustryBase', 'U_IndustryPeak')\n",
    "    percent_load = row['% of system load'] / 100  # Scale factor as a fraction\n",
    "    \n",
    "    # Check if the load type exists in the Demand_Data_Normalized columns\n",
    "    if load_type in season_data.columns:\n",
    "        # Retrieve the hourly values for the specified load type and scale them\n",
    "        hourly_values = season_data[season_data['Hour'] <= 24][load_type].values * percent_load\n",
    "        \n",
    "        # Create a new row with these hourly values\n",
    "        row_data = pd.DataFrame([hourly_values], columns=[f'Hour_{i+1}' for i in range(24)])\n",
    "        \n",
    "        # Add identifying columns (like Load #, Zone, and LoadType) for clarity\n",
    "        row_data['Load #'] = row['Load #']\n",
    "        row_data['Zone'] = row['Zone']\n",
    "        row_data['LoadType'] = load_type\n",
    "        \n",
    "        # Append the new row to the result_data DataFrame\n",
    "        result_data = pd.concat([result_data, row_data], ignore_index=True)\n",
    "\n",
    "# Reset index and inspect result\n",
    "result_data.reset_index(drop=True, inplace=True)\n",
    "print(result_data)\n"
   ]
  }
 ],
 "metadata": {
  "kernelspec": {
   "display_name": "Python 3",
   "language": "python",
   "name": "python3"
  },
  "language_info": {
   "codemirror_mode": {
    "name": "ipython",
    "version": 3
   },
   "file_extension": ".py",
   "mimetype": "text/x-python",
   "name": "python",
   "nbconvert_exporter": "python",
   "pygments_lexer": "ipython3",
   "version": "3.12.2"
  }
 },
 "nbformat": 4,
 "nbformat_minor": 2
}
