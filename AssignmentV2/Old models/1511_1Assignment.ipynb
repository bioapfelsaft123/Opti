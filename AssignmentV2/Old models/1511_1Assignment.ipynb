{
 "cells": [
  {
   "cell_type": "code",
   "execution_count": 15,
   "metadata": {},
   "outputs": [],
   "source": [
    "# Loading all the needed Packages\n",
    "import pandas as pd\n",
    "import numpy as np\n",
    "import gurobipy as gp\n",
    "from gurobipy import GRB"
   ]
  },
  {
   "cell_type": "markdown",
   "metadata": {},
   "source": [
    "# PROBLEM 1"
   ]
  },
  {
   "cell_type": "markdown",
   "metadata": {},
   "source": [
    "## 1) Data Handling"
   ]
  },
  {
   "cell_type": "code",
   "execution_count": 2,
   "metadata": {},
   "outputs": [],
   "source": [
    "## PREPARING THE DATA\n",
    "\n",
    "# Load all CSV files\n",
    "Dem_Data = pd.read_excel('../Data/LoadProfile.xlsx', sheet_name='Python_Dem_Data')\n",
    "Uti_Data = pd.read_excel('../Data/LoadProfile.xlsx', sheet_name='Python_Uti_Data')\n",
    "Gen_E_Data = pd.read_excel('../Data/Generators_Existing.xlsx', sheet_name='Python_Gen_E_Data')\n",
    "Gen_N_Data = pd.read_excel('../Data/Generators_New.xlsx', sheet_name='Python_Gen_N_Data')\n",
    "Gen_E_MaxC_Data = pd.read_excel('../Data/GenerationProfile.xlsx', sheet_name='Python_Gen_E_MaxC_Data')\n",
    "Gen_N_MaxC_Data = pd.read_excel('../Data/GenerationProfile.xlsx', sheet_name='Python_Gen_N_MaxC_Data')\n",
    "\n",
    "# Export the needed matrices\n",
    "Dem = np.array(Dem_Data)    # Demand profile\n",
    "Uti = np.transpose(np.array(Uti_Data))   # Utility profile\n",
    "Gen_E_Cost = np.array(Gen_E_Data['Cost'])   # Existing Generators Operational Cost\n",
    "Gen_N_Cost = np.array(Gen_E_Data['Cost'])  # New Generators Operational Cost\n",
    "Gen_E_MaxC = np.array(Gen_E_MaxC_Data)  # Maximum Capacity of Existing Generators (Hourly profile if RES, Max capacity otherwise)\n",
    "Gen_N_MaxC = np.array(Gen_N_MaxC_Data)  # Maximum Capacity of New Generators (Hourly profile if RES, Max capacity otherwise)\n",
    "Gen_N_MaxInvCap = np.array(Gen_N_Data['MaxInv (MW)'])  # Maximum New Generators Capacity Investment (MW)\n",
    "Gen_N_InvCost = np.array(Gen_N_Data['C_CapInv ($/MW)'])  # New Generators Investment Cost ($/MW)\n",
    "\n",
    "# Fix the shape of matrices with only one column    \n",
    "Gen_E_Cost = Gen_E_Cost.reshape((Gen_E_Cost.shape[0], 1))\n",
    "Gen_N_Cost = Gen_N_Cost.reshape((Gen_N_Cost.shape[0], 1))\n",
    "Gen_N_MaxInvCap = Gen_N_MaxInvCap.reshape((Gen_N_MaxInvCap.shape[0], 1))\n",
    "Gen_N_InvCost = Gen_N_InvCost.reshape((Gen_N_InvCost.shape[0], 1))\n"
   ]
  },
  {
   "cell_type": "code",
   "execution_count": 3,
   "metadata": {},
   "outputs": [
    {
     "data": {
      "text/html": [
       "<div>\n",
       "<style scoped>\n",
       "    .dataframe tbody tr th:only-of-type {\n",
       "        vertical-align: middle;\n",
       "    }\n",
       "\n",
       "    .dataframe tbody tr th {\n",
       "        vertical-align: top;\n",
       "    }\n",
       "\n",
       "    .dataframe thead th {\n",
       "        text-align: right;\n",
       "    }\n",
       "</style>\n",
       "<table border=\"1\" class=\"dataframe\">\n",
       "  <thead>\n",
       "    <tr style=\"text-align: right;\">\n",
       "      <th></th>\n",
       "      <th>Name</th>\n",
       "      <th>Size</th>\n",
       "      <th>Content</th>\n",
       "    </tr>\n",
       "  </thead>\n",
       "  <tbody>\n",
       "    <tr>\n",
       "      <th>0</th>\n",
       "      <td>Dem</td>\n",
       "      <td>(3600, 17)</td>\n",
       "      <td>Demand for each load for each hour of the inve...</td>\n",
       "    </tr>\n",
       "    <tr>\n",
       "      <th>1</th>\n",
       "      <td>Uti</td>\n",
       "      <td>(17, 1)</td>\n",
       "      <td>Utility for each load for one hour</td>\n",
       "    </tr>\n",
       "    <tr>\n",
       "      <th>2</th>\n",
       "      <td>Gen_E_Cost</td>\n",
       "      <td>(16, 1)</td>\n",
       "      <td>Unit cost of each existing generator</td>\n",
       "    </tr>\n",
       "    <tr>\n",
       "      <th>3</th>\n",
       "      <td>Gen_N_Cost</td>\n",
       "      <td>(16, 1)</td>\n",
       "      <td>Unit cost of each new generator</td>\n",
       "    </tr>\n",
       "    <tr>\n",
       "      <th>4</th>\n",
       "      <td>Gen_E_MaxC</td>\n",
       "      <td>(3600, 16)</td>\n",
       "      <td>Maximum generation profile of each existing en...</td>\n",
       "    </tr>\n",
       "    <tr>\n",
       "      <th>5</th>\n",
       "      <td>Gen_N_Max_C</td>\n",
       "      <td>(3600, 16)</td>\n",
       "      <td>Maximum generation profile of each new energy ...</td>\n",
       "    </tr>\n",
       "    <tr>\n",
       "      <th>6</th>\n",
       "      <td>Gen_N_MaxInvCap</td>\n",
       "      <td>(16, 1)</td>\n",
       "      <td>Maximum capacity investment of each new generator</td>\n",
       "    </tr>\n",
       "    <tr>\n",
       "      <th>7</th>\n",
       "      <td>Gen_N_InvCost</td>\n",
       "      <td>(16, 1)</td>\n",
       "      <td>Unit Investment cost of each new generator</td>\n",
       "    </tr>\n",
       "  </tbody>\n",
       "</table>\n",
       "</div>"
      ],
      "text/plain": [
       "              Name        Size  \\\n",
       "0              Dem  (3600, 17)   \n",
       "1              Uti     (17, 1)   \n",
       "2       Gen_E_Cost     (16, 1)   \n",
       "3       Gen_N_Cost     (16, 1)   \n",
       "4       Gen_E_MaxC  (3600, 16)   \n",
       "5      Gen_N_Max_C  (3600, 16)   \n",
       "6  Gen_N_MaxInvCap     (16, 1)   \n",
       "7    Gen_N_InvCost     (16, 1)   \n",
       "\n",
       "                                             Content  \n",
       "0  Demand for each load for each hour of the inve...  \n",
       "1                 Utility for each load for one hour  \n",
       "2               Unit cost of each existing generator  \n",
       "3                    Unit cost of each new generator  \n",
       "4  Maximum generation profile of each existing en...  \n",
       "5  Maximum generation profile of each new energy ...  \n",
       "6  Maximum capacity investment of each new generator  \n",
       "7         Unit Investment cost of each new generator  "
      ]
     },
     "execution_count": 3,
     "metadata": {},
     "output_type": "execute_result"
    }
   ],
   "source": [
    "## DATA VISUALIZATION\n",
    "\n",
    "# Create a Dataframe to store the name of each vector/matrix we will use, their size and their content\n",
    "Data = pd.DataFrame(columns=['Name', 'Size', 'Content'])\n",
    "Data['Name'] = ['Dem', 'Uti', 'Gen_E_Cost', 'Gen_N_Cost', 'Gen_E_MaxC', 'Gen_N_Max_C', 'Gen_N_MaxInvCap', 'Gen_N_InvCost']\n",
    "Data['Size'] = [Dem.shape, Uti.shape, Gen_E_Cost.shape, Gen_N_Cost.shape, Gen_E_MaxC.shape, Gen_N_MaxC.shape, Gen_N_MaxInvCap.shape, Gen_N_InvCost.shape]\n",
    "Data['Content'] = ['Demand for each load for each hour of the investment problem',\n",
    "                     'Utility for each load for one hour',\n",
    "                     'Unit cost of each existing generator',\n",
    "                     'Unit cost of each new generator',\n",
    "                     'Maximum generation profile of each existing energy source for each hour of the investment problem (Hourly profile if RES, Max capacity otherwise)',\n",
    "                     'Maximum generation profile of each new energy source for each hour of the investment problem (Hourly profile if RES, Max capacity otherwise)',\n",
    "                     'Maximum capacity investment of each new generator',\n",
    "                     'Unit Investment cost of each new generator']\n",
    "Data"
   ]
  },
  {
   "cell_type": "code",
   "execution_count": 4,
   "metadata": {},
   "outputs": [],
   "source": [
    "## PARAMETERS DEFINITION\n",
    "\n",
    "# Time\n",
    "H = 24          # Hours in a day\n",
    "D = 5           # Typical days in a year\n",
    "Y = 30          # Years of the investment timeline\n",
    "N = H*D*Y       # Number of hours in the investment timeline    \n",
    "\n",
    "# Number of loads and generators\n",
    "N_dem = len(Dem[0,:])       # Number of loads\n",
    "N_gen_E = len(Gen_E_Cost)   # Number of existing generators\n",
    "N_gen_N = len(Gen_N_Cost)   # Number of new generators\n",
    "\n",
    "# Hyperparameters\n",
    "B = 500000000    # Budget for the investment problem\n",
    "\n",
    "# Usefull vectors\n",
    "Sum_over_dem = np.ones((N_dem,1)) # Vector of ones to sum the demands over hours\n",
    "Sum_over_gen_E = np.ones((N_gen_E,1)) # Vector of ones to sum the generation over hours\n",
    "Sum_over_gen_N = np.ones((N_gen_N,1)) # Vector of ones to sum the generation over hours\n",
    "Sum_over_hours = np.ones((N,1)) # Vector of ones to sum over hours\n",
    "Sum_over_hours_gen_N = np.ones((N, N_gen_N)) # Vector of ones to sum over hours and generators"
   ]
  },
  {
   "cell_type": "code",
   "execution_count": 14,
   "metadata": {},
   "outputs": [],
   "source": [
    "## CREATING A CLASS FOR PARAMETERS\n",
    "\n",
    "class Parameters:\n",
    "    def __init__(self, H, D, Y, N, N_dem, N_gen_E, N_gen_N, B, Sum_over_dem, Sum_over_gen_E, Sum_over_gen_N, Sum_over_hours, Sum_over_hours_gen_N):\n",
    "        self.H = H\n",
    "        self.D = D\n",
    "        self.Y = Y\n",
    "        self.N = N\n",
    "        self.N_dem = N_dem\n",
    "        self.N_gen_E = N_gen_E\n",
    "        self.N_gen_N = N_gen_N\n",
    "        self.B = B\n",
    "        self.Sum_over_dem = Sum_over_dem\n",
    "        self.Sum_over_gen_E = Sum_over_gen_E\n",
    "        self.Sum_over_gen_N = Sum_over_gen_N\n",
    "        self.Sum_over_hours = Sum_over_hours\n",
    "        self.Sum_over_hours_gen_N = Sum_over_hours_gen_N\n",
    "    "
   ]
  },
  {
   "cell_type": "markdown",
   "metadata": {},
   "source": [
    "## 2) Optimisation model"
   ]
  },
  {
   "cell_type": "markdown",
   "metadata": {},
   "source": [
    "### Market Clearing"
   ]
  },
  {
   "cell_type": "code",
   "execution_count": 6,
   "metadata": {},
   "outputs": [
    {
     "name": "stdout",
     "output_type": "stream",
     "text": [
      "Set parameter Username\n",
      "Academic license - for non-commercial use only - expires 2025-09-24\n"
     ]
    }
   ],
   "source": [
    "## CREATE THE MARKET CLEARING MODEL\n",
    "\n",
    "m = gp.Model(\"DA market clearing\")"
   ]
  },
  {
   "cell_type": "code",
   "execution_count": 7,
   "metadata": {},
   "outputs": [],
   "source": [
    "## ADD VARIABLES\n",
    "\n",
    "d = m.addMVar((N, N_dem), lb=0) # demand per hour in every demand\n",
    "p_E = m.addMVar((N, N_gen_E), lb=0) # power output per hour for every existing generator"
   ]
  },
  {
   "cell_type": "code",
   "execution_count": 8,
   "metadata": {},
   "outputs": [],
   "source": [
    "## ADD CONSTRAINTS\n",
    "\n",
    "# Max demand constraint\n",
    "max_dem = m.addConstr(d <= Dem, name='Maximum demand')\n",
    "\n",
    "# Max production constraint\n",
    "max_p_E = m.addConstr(p_E <= Gen_E_MaxC, name='Maximum RES production')\n",
    "\n",
    "# Balance constraint\n",
    "balance = m.addConstr(d @ Sum_over_dem == p_E @ Sum_over_gen_E, name='Demand balance')"
   ]
  },
  {
   "cell_type": "code",
   "execution_count": 9,
   "metadata": {},
   "outputs": [],
   "source": [
    "## OBJECTIVE FUNCTION\n",
    "\n",
    "objective = gp.quicksum (d @ Uti - p_E @ Gen_E_Cost)\n",
    "m.setObjective(objective, GRB.MAXIMIZE)"
   ]
  },
  {
   "cell_type": "code",
   "execution_count": 10,
   "metadata": {},
   "outputs": [
    {
     "name": "stdout",
     "output_type": "stream",
     "text": [
      "Gurobi Optimizer version 11.0.3 build v11.0.3rc0 (mac64[x86] - Darwin 21.6.0 21H1320)\n",
      "\n",
      "CPU model: Intel(R) Core(TM) i5-5350U CPU @ 1.80GHz\n",
      "Thread count: 2 physical cores, 4 logical processors, using up to 4 threads\n",
      "\n",
      "Optimize a model with 122400 rows, 118800 columns and 237600 nonzeros\n",
      "Model fingerprint: 0x8b163ae8\n",
      "Coefficient statistics:\n",
      "  Matrix range     [1e+00, 1e+00]\n",
      "  Objective range  [3e+01, 1e+03]\n",
      "  Bounds range     [0e+00, 0e+00]\n",
      "  RHS range        [2e-02, 6e+02]\n",
      "Presolve removed 118887 rows and 94209 columns\n",
      "Presolve time: 0.56s\n",
      "Presolved: 3513 rows, 24591 columns, 24591 nonzeros\n",
      "\n",
      "Concurrent LP optimizer: dual simplex and barrier\n",
      "Showing barrier log only...\n",
      "\n",
      "Ordering time: 0.00s\n",
      "\n",
      "Barrier statistics:\n",
      " AA' NZ     : 0.000e+00\n",
      " Factor NZ  : 3.513e+03 (roughly 11 MB of memory)\n",
      " Factor Ops : 3.513e+03 (less than 1 second per iteration)\n",
      " Threads    : 1\n",
      "\n",
      "                  Objective                Residual\n",
      "Iter       Primal          Dual         Primal    Dual     Compl     Time\n",
      "   0   3.31748265e+09  1.96883791e+10  4.85e+02 1.14e-13  7.42e+05     1s\n",
      "\n",
      "Barrier performed 0 iterations in 0.63 seconds (0.21 work units)\n",
      "Barrier solve interrupted - model solved by another algorithm\n",
      "\n",
      "\n",
      "Solved with dual simplex\n",
      "Iteration    Objective       Primal Inf.    Dual Inf.      Time\n",
      "    3513    3.5503239e+09   0.000000e+00   0.000000e+00      1s\n",
      "\n",
      "Solved in 3513 iterations and 0.77 seconds (0.25 work units)\n",
      "Optimal objective  3.550323854e+09\n"
     ]
    }
   ],
   "source": [
    "m.optimize()\n"
   ]
  },
  {
   "cell_type": "markdown",
   "metadata": {},
   "source": [
    "### Investment Problem"
   ]
  },
  {
   "cell_type": "code",
   "execution_count": 11,
   "metadata": {},
   "outputs": [],
   "source": [
    "def InvestmentProblem():\n",
    "\n",
    "    ## Create the model\n",
    "    m = gp.Model(\"Investment problem\")\n",
    "    \n",
    "\n",
    "    ## ADD VARIABLES\n",
    "\n",
    "    P_N = m.addMVar((N_gen_N, 1), lb=0) # Invested capacity in every new generator\n",
    "    p_N = m.addMVar((N, N_gen_N), lb=0) # power output per hour for every new generator\n",
    "        \n",
    "    \n",
    "    ## ADD CONSTRAINTS\n",
    "\n",
    "    # Capacity investment constraint\n",
    "    cap_inv = m.addConstr(P_N <= Gen_N_MaxInvCap, name='Maximum capacity investment')\n",
    "\n",
    "    # Max production constraint\n",
    "    ratio_invest = (P_N.T / Gen_N_MaxInvCap.T)  # % of the maximum investment capacity invested in each new generator, size (1, N_gen_N)\n",
    "    ratio_invest_hourly = Sum_over_hours_gen_N * ratio_invest  # Create a matrix of size (N, N_gen_N) with the % of the maximum investment capacity invested in each new generator for each hour\n",
    "    max_p_N = m.addConstr(p_N <= Gen_N_MaxC * ratio_invest_hourly , name='Maximum RES production')\n",
    "\n",
    "    # Budget constraint\n",
    "    budget = m.addConstr(P_N.T @ Gen_N_InvCost <= B, name='Budget constraint')\n",
    "    \n",
    "    \n",
    "    ## OBJECTIVE FUNCTION\n",
    "\n",
    "    objective = gp.quicksum (((p_N @ Sum_over_gen_N) * balance.Pi - p_N @ Gen_N_Cost)) + B - P_N.T @ Gen_N_InvCost\n",
    "    m.setObjective(objective, GRB.MAXIMIZE)\n",
    "    \n",
    "    return m"
   ]
  },
  {
   "cell_type": "code",
   "execution_count": 12,
   "metadata": {},
   "outputs": [
    {
     "name": "stdout",
     "output_type": "stream",
     "text": [
      "Gurobi Optimizer version 11.0.3 build v11.0.3rc0 (mac64[x86] - Darwin 21.6.0 21H1320)\n",
      "\n",
      "CPU model: Intel(R) Core(TM) i5-5350U CPU @ 1.80GHz\n",
      "Thread count: 2 physical cores, 4 logical processors, using up to 4 threads\n",
      "\n",
      "Optimize a model with 57617 rows, 57616 columns and 59434 nonzeros\n",
      "Model fingerprint: 0x21c28c8f\n",
      "Coefficient statistics:\n",
      "  Matrix range     [1e-04, 2e+06]\n",
      "  Objective range  [1e+01, 2e+06]\n",
      "  Bounds range     [0e+00, 0e+00]\n",
      "  RHS range        [2e+02, 5e+08]\n",
      "Presolve removed 57617 rows and 57616 columns\n",
      "Presolve time: 0.06s\n",
      "Presolve: All rows and columns removed\n",
      "Iteration    Objective       Primal Inf.    Dual Inf.      Time\n",
      "       0    5.0000000e+08   0.000000e+00   0.000000e+00      0s\n",
      "\n",
      "Solved in 0 iterations and 0.12 seconds (0.03 work units)\n",
      "Optimal objective  5.000000000e+08\n"
     ]
    }
   ],
   "source": [
    "## SOLVE THE INVESTMENT PROBLEM\n",
    "\n",
    "Investment_model = InvestmentProblem()\n",
    "Investment_model.optimize()"
   ]
  },
  {
   "cell_type": "code",
   "execution_count": 103,
   "metadata": {},
   "outputs": [],
   "source": [
    "class Data_Input_Inv:\n",
    "    def __init__(self, Dem, Uti, Gen_E_Cost, Gen_N_Cost, Gen_E_MaxC, Gen_N_MaxC, Gen_N_MaxInvCap, Gen_N_InvCost):\n",
    "        self.Dem = Dem\n",
    "        self.Uti = Uti\n",
    "        self.Gen_E_Cost = Gen_E_Cost\n",
    "        self.Gen_N_Cost = Gen_N_Cost\n",
    "        self.Gen_E_MaxC = Gen_E_MaxC\n",
    "        self.Gen_N_MaxC = Gen_N_MaxC\n",
    "        self.Gen_N_MaxInvCap = Gen_N_MaxInvCap\n",
    "        self.Gen_N_InvCost = Gen_N_InvCost"
   ]
  },
  {
   "cell_type": "code",
   "execution_count": null,
   "metadata": {},
   "outputs": [],
   "source": [
    "class InvestmentProblem:\n",
    "    def __init__(self, Data, B):\n",
    "        self.Data = Data\n",
    "        self.B = B\n",
    "        "
   ]
  },
  {
   "cell_type": "code",
   "execution_count": 86,
   "metadata": {},
   "outputs": [],
   "source": [
    "## CREATE THE INVESTMENT MODEL\n",
    "\n",
    "m1 = gp.Model(\"Investment\")\n"
   ]
  },
  {
   "cell_type": "code",
   "execution_count": 87,
   "metadata": {},
   "outputs": [],
   "source": [
    "## ADD VARIABLES\n",
    "\n",
    "P_N = m1.addMVar((N_gen_N, 1), lb=0) # Invested capacity in every new generator\n",
    "p_N = m1.addMVar((N, N_gen_N), lb=0) # power output per hour for every new generator"
   ]
  },
  {
   "cell_type": "code",
   "execution_count": 88,
   "metadata": {},
   "outputs": [],
   "source": [
    "## ADD CONSTRAINTS\n",
    "\n",
    "# Capacity investment constraint\n",
    "cap_inv = m1.addConstr(P_N <= Gen_N_MaxInvCap, name='Maximum capacity investment')\n",
    "\n",
    "# Max production constraint\n",
    "ratio_invest = (P_N.T / Gen_N_MaxInvCap.T)  # % of the maximum investment capacity invested in each new generator, size (1, N_gen_N)\n",
    "ratio_invest_hourly = Sum_over_hours_gen_N * ratio_invest  # Create a matrix of size (N, N_gen_N) with the % of the maximum investment capacity invested in each new generator for each hour\n",
    "max_p_N = m1.addConstr(p_N <= Gen_N_MaxC * ratio_invest_hourly , name='Maximum RES production')\n",
    "\n",
    "# Budget constraint\n",
    "budget = m1.addConstr(P_N.T @ Gen_N_InvCost <= B, name='Budget constraint')"
   ]
  },
  {
   "cell_type": "code",
   "execution_count": 91,
   "metadata": {},
   "outputs": [],
   "source": [
    "## OBJECTIVE FUNCTION\n",
    "\n",
    "objective = gp.quicksum (((p_N @ Sum_over_gen_N) * balance.Pi * 10000000000 - p_N @ Gen_N_Cost)) + B - P_N.T @ Gen_N_InvCost/1000000\n",
    "m1.setObjective(objective, GRB.MAXIMIZE)"
   ]
  },
  {
   "cell_type": "code",
   "execution_count": 92,
   "metadata": {},
   "outputs": [
    {
     "name": "stdout",
     "output_type": "stream",
     "text": [
      "Gurobi Optimizer version 11.0.3 build v11.0.3rc0 (mac64[x86] - Darwin 21.6.0 21H1320)\n",
      "\n",
      "CPU model: Intel(R) Core(TM) i5-5350U CPU @ 1.80GHz\n",
      "Thread count: 2 physical cores, 4 logical processors, using up to 4 threads\n",
      "\n",
      "Optimize a model with 57617 rows, 57616 columns and 59434 nonzeros\n",
      "Model fingerprint: 0xbc011749\n",
      "Coefficient statistics:\n",
      "  Matrix range     [1e-04, 2e+06]\n",
      "  Objective range  [8e-01, 1e+12]\n",
      "  Bounds range     [0e+00, 0e+00]\n",
      "  RHS range        [2e+02, 5e+08]\n",
      "Warning: Model contains large objective coefficients\n",
      "         Consider reformulating model or setting NumericFocus parameter\n",
      "         to avoid numerical issues.\n",
      "Presolve removed 57616 rows and 57609 columns\n",
      "Presolve time: 0.10s\n",
      "Presolved: 1 rows, 7 columns, 7 nonzeros\n",
      "\n",
      "Iteration    Objective       Primal Inf.    Dual Inf.      Time\n",
      "       0    4.1687500e+16   5.760000e+04   0.000000e+00      0s\n",
      "      43    4.1053850e+16   0.000000e+00   0.000000e+00      0s\n",
      "\n",
      "Solved in 43 iterations and 0.26 seconds (0.18 work units)\n",
      "Optimal objective  4.105385050e+16\n",
      "Warning: unscaled dual violation = 0.0390625 and residual = 0.0390625\n"
     ]
    }
   ],
   "source": [
    "## SOLVE THE MODEL\n",
    "\n",
    "m1.optimize()"
   ]
  },
  {
   "cell_type": "code",
   "execution_count": 93,
   "metadata": {},
   "outputs": [
    {
     "name": "stdout",
     "output_type": "stream",
     "text": [
      "Invest in generator 2 with a capacity of [200.] MW\n",
      "Invest in generator 3 with a capacity of [200.] MW\n",
      "Invest in generator 6 with a capacity of [20.] MW\n",
      "Invest in generator 15 with a capacity of [200.] MW\n"
     ]
    }
   ],
   "source": [
    "# Display the generators the model decided to invest in\n",
    "for i in range(N_gen_N):\n",
    "    if P_N[i].x > 0:\n",
    "        print('Invest in generator', i, 'with a capacity of', P_N[i].x, 'MW')"
   ]
  },
  {
   "cell_type": "markdown",
   "metadata": {},
   "source": [
    "## Sense checks"
   ]
  },
  {
   "cell_type": "code",
   "execution_count": 94,
   "metadata": {},
   "outputs": [
    {
     "data": {
      "text/html": [
       "<div>\n",
       "<style scoped>\n",
       "    .dataframe tbody tr th:only-of-type {\n",
       "        vertical-align: middle;\n",
       "    }\n",
       "\n",
       "    .dataframe tbody tr th {\n",
       "        vertical-align: top;\n",
       "    }\n",
       "\n",
       "    .dataframe thead th {\n",
       "        text-align: right;\n",
       "    }\n",
       "</style>\n",
       "<table border=\"1\" class=\"dataframe\">\n",
       "  <thead>\n",
       "    <tr style=\"text-align: right;\">\n",
       "      <th></th>\n",
       "      <th>Hour</th>\n",
       "      <th>Load</th>\n",
       "      <th>Existing generators</th>\n",
       "      <th>Price</th>\n",
       "    </tr>\n",
       "  </thead>\n",
       "  <tbody>\n",
       "    <tr>\n",
       "      <th>0</th>\n",
       "      <td>1</td>\n",
       "      <td>1779.385188</td>\n",
       "      <td>1779.385188</td>\n",
       "      <td>40.0</td>\n",
       "    </tr>\n",
       "    <tr>\n",
       "      <th>1</th>\n",
       "      <td>2</td>\n",
       "      <td>1650.595419</td>\n",
       "      <td>1650.595419</td>\n",
       "      <td>40.0</td>\n",
       "    </tr>\n",
       "    <tr>\n",
       "      <th>2</th>\n",
       "      <td>3</td>\n",
       "      <td>1571.538513</td>\n",
       "      <td>1571.538513</td>\n",
       "      <td>40.0</td>\n",
       "    </tr>\n",
       "    <tr>\n",
       "      <th>3</th>\n",
       "      <td>4</td>\n",
       "      <td>1562.649317</td>\n",
       "      <td>1562.649317</td>\n",
       "      <td>40.0</td>\n",
       "    </tr>\n",
       "    <tr>\n",
       "      <th>4</th>\n",
       "      <td>5</td>\n",
       "      <td>1595.064126</td>\n",
       "      <td>1595.064126</td>\n",
       "      <td>40.0</td>\n",
       "    </tr>\n",
       "    <tr>\n",
       "      <th>5</th>\n",
       "      <td>6</td>\n",
       "      <td>1620.124075</td>\n",
       "      <td>1620.124075</td>\n",
       "      <td>40.0</td>\n",
       "    </tr>\n",
       "    <tr>\n",
       "      <th>6</th>\n",
       "      <td>7</td>\n",
       "      <td>2135.303208</td>\n",
       "      <td>2135.303208</td>\n",
       "      <td>50.0</td>\n",
       "    </tr>\n",
       "    <tr>\n",
       "      <th>7</th>\n",
       "      <td>8</td>\n",
       "      <td>2255.132627</td>\n",
       "      <td>2255.132627</td>\n",
       "      <td>75.0</td>\n",
       "    </tr>\n",
       "    <tr>\n",
       "      <th>8</th>\n",
       "      <td>9</td>\n",
       "      <td>2196.182934</td>\n",
       "      <td>2196.182934</td>\n",
       "      <td>75.0</td>\n",
       "    </tr>\n",
       "    <tr>\n",
       "      <th>9</th>\n",
       "      <td>10</td>\n",
       "      <td>2111.414663</td>\n",
       "      <td>2111.414663</td>\n",
       "      <td>75.0</td>\n",
       "    </tr>\n",
       "    <tr>\n",
       "      <th>10</th>\n",
       "      <td>11</td>\n",
       "      <td>2087.396136</td>\n",
       "      <td>2087.396136</td>\n",
       "      <td>75.0</td>\n",
       "    </tr>\n",
       "    <tr>\n",
       "      <th>11</th>\n",
       "      <td>12</td>\n",
       "      <td>2193.375357</td>\n",
       "      <td>2193.375357</td>\n",
       "      <td>75.0</td>\n",
       "    </tr>\n",
       "    <tr>\n",
       "      <th>12</th>\n",
       "      <td>13</td>\n",
       "      <td>2370.720618</td>\n",
       "      <td>2370.720618</td>\n",
       "      <td>75.0</td>\n",
       "    </tr>\n",
       "    <tr>\n",
       "      <th>13</th>\n",
       "      <td>14</td>\n",
       "      <td>2635.375001</td>\n",
       "      <td>2635.375001</td>\n",
       "      <td>75.0</td>\n",
       "    </tr>\n",
       "    <tr>\n",
       "      <th>14</th>\n",
       "      <td>15</td>\n",
       "      <td>2859.687964</td>\n",
       "      <td>2859.687964</td>\n",
       "      <td>75.0</td>\n",
       "    </tr>\n",
       "    <tr>\n",
       "      <th>15</th>\n",
       "      <td>16</td>\n",
       "      <td>3030.423478</td>\n",
       "      <td>3030.423478</td>\n",
       "      <td>75.0</td>\n",
       "    </tr>\n",
       "    <tr>\n",
       "      <th>16</th>\n",
       "      <td>17</td>\n",
       "      <td>3096.497028</td>\n",
       "      <td>3096.497028</td>\n",
       "      <td>75.0</td>\n",
       "    </tr>\n",
       "    <tr>\n",
       "      <th>17</th>\n",
       "      <td>18</td>\n",
       "      <td>3151.103269</td>\n",
       "      <td>3151.103269</td>\n",
       "      <td>75.0</td>\n",
       "    </tr>\n",
       "    <tr>\n",
       "      <th>18</th>\n",
       "      <td>19</td>\n",
       "      <td>3081.697500</td>\n",
       "      <td>3081.697500</td>\n",
       "      <td>50.0</td>\n",
       "    </tr>\n",
       "    <tr>\n",
       "      <th>19</th>\n",
       "      <td>20</td>\n",
       "      <td>2922.668521</td>\n",
       "      <td>2922.668521</td>\n",
       "      <td>50.0</td>\n",
       "    </tr>\n",
       "    <tr>\n",
       "      <th>20</th>\n",
       "      <td>21</td>\n",
       "      <td>2887.833722</td>\n",
       "      <td>2887.833722</td>\n",
       "      <td>50.0</td>\n",
       "    </tr>\n",
       "    <tr>\n",
       "      <th>21</th>\n",
       "      <td>22</td>\n",
       "      <td>2616.857801</td>\n",
       "      <td>2616.857801</td>\n",
       "      <td>50.0</td>\n",
       "    </tr>\n",
       "    <tr>\n",
       "      <th>22</th>\n",
       "      <td>23</td>\n",
       "      <td>2232.925258</td>\n",
       "      <td>2232.925258</td>\n",
       "      <td>40.0</td>\n",
       "    </tr>\n",
       "    <tr>\n",
       "      <th>23</th>\n",
       "      <td>24</td>\n",
       "      <td>1884.260652</td>\n",
       "      <td>1884.260652</td>\n",
       "      <td>40.0</td>\n",
       "    </tr>\n",
       "  </tbody>\n",
       "</table>\n",
       "</div>"
      ],
      "text/plain": [
       "    Hour         Load  Existing generators  Price\n",
       "0      1  1779.385188          1779.385188   40.0\n",
       "1      2  1650.595419          1650.595419   40.0\n",
       "2      3  1571.538513          1571.538513   40.0\n",
       "3      4  1562.649317          1562.649317   40.0\n",
       "4      5  1595.064126          1595.064126   40.0\n",
       "5      6  1620.124075          1620.124075   40.0\n",
       "6      7  2135.303208          2135.303208   50.0\n",
       "7      8  2255.132627          2255.132627   75.0\n",
       "8      9  2196.182934          2196.182934   75.0\n",
       "9     10  2111.414663          2111.414663   75.0\n",
       "10    11  2087.396136          2087.396136   75.0\n",
       "11    12  2193.375357          2193.375357   75.0\n",
       "12    13  2370.720618          2370.720618   75.0\n",
       "13    14  2635.375001          2635.375001   75.0\n",
       "14    15  2859.687964          2859.687964   75.0\n",
       "15    16  3030.423478          3030.423478   75.0\n",
       "16    17  3096.497028          3096.497028   75.0\n",
       "17    18  3151.103269          3151.103269   75.0\n",
       "18    19  3081.697500          3081.697500   50.0\n",
       "19    20  2922.668521          2922.668521   50.0\n",
       "20    21  2887.833722          2887.833722   50.0\n",
       "21    22  2616.857801          2616.857801   50.0\n",
       "22    23  2232.925258          2232.925258   40.0\n",
       "23    24  1884.260652          1884.260652   40.0"
      ]
     },
     "execution_count": 94,
     "metadata": {},
     "output_type": "execute_result"
    }
   ],
   "source": [
    "# Display the optimal values of the decision variables for the 5 first hours in a df\n",
    "n_test = 24\n",
    "df = pd.DataFrame(columns=['Hour', 'Load', 'Existing generators', 'Price'])\n",
    "df['Hour'] = np.arange(1,n_test+1)\n",
    "df['Load'] = d.X[0:n_test] @ Sum_over_dem\n",
    "df['Existing generators'] = p_E.X[0:n_test] @ Sum_over_gen_E\n",
    "df['Price'] = balance.Pi[0:n_test] \n",
    "df\n"
   ]
  },
  {
   "cell_type": "code",
   "execution_count": 95,
   "metadata": {},
   "outputs": [
    {
     "name": "stdout",
     "output_type": "stream",
     "text": [
      "Max value of p_E[:,0]: 283.0980684\n",
      "Max value of p_E[:,1]: 199.3726899\n",
      "Average value of p_E[:,0]: 116.46559658\n",
      "Average value of p_E[:,1]: 36.520036802499995\n",
      "Max value of d[:,0]: 186.8100487380263\n",
      "Max value of d[:,1]: 165.49092384296225\n"
     ]
    }
   ],
   "source": [
    "# Give the maximum value of p_E[:,0], p_E[:,1], p_N[:,0] and p_N[:,1] and d[:,0] and d[:,1]\n",
    "print('Max value of p_E[:,0]:', max(p_E.X[:,8]))\n",
    "print('Max value of p_E[:,1]:', max(p_E.X[:,9]))\n",
    "print('Average value of p_E[:,0]:', np.mean(p_E.X[:,8]))\n",
    "print('Average value of p_E[:,1]:', np.mean(p_E.X[:,9]))\n",
    "print('Max value of d[:,0]:', max(d.X[:,0]))\n",
    "print('Max value of d[:,1]:', max(d.X[:,1]))\n"
   ]
  },
  {
   "cell_type": "code",
   "execution_count": 96,
   "metadata": {},
   "outputs": [
    {
     "data": {
      "text/plain": [
       "array([152.        , 152.        , 350.        , 591.        ,\n",
       "        60.        , 155.        , 155.        ,  21.4710252 ,\n",
       "        21.4710252 ,  55.9900941 ,  16.64004453,  18.78714705,\n",
       "        26.8387815 , 100.        ,  11.19801882, 200.        ])"
      ]
     },
     "execution_count": 96,
     "metadata": {},
     "output_type": "execute_result"
    }
   ],
   "source": [
    "p_E[10,:].X"
   ]
  },
  {
   "cell_type": "code",
   "execution_count": null,
   "metadata": {},
   "outputs": [],
   "source": [
    "\n"
   ]
  },
  {
   "cell_type": "code",
   "execution_count": null,
   "metadata": {},
   "outputs": [],
   "source": []
  }
 ],
 "metadata": {
  "kernelspec": {
   "display_name": "my_environment",
   "language": "python",
   "name": "python3"
  },
  "language_info": {
   "codemirror_mode": {
    "name": "ipython",
    "version": 3
   },
   "file_extension": ".py",
   "mimetype": "text/x-python",
   "name": "python",
   "nbconvert_exporter": "python",
   "pygments_lexer": "ipython3",
   "version": "3.11.5"
  }
 },
 "nbformat": 4,
 "nbformat_minor": 2
}
