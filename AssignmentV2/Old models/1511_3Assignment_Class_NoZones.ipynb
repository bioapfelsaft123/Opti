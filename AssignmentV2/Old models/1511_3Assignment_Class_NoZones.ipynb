{
 "cells": [
  {
   "cell_type": "code",
   "execution_count": 18,
   "metadata": {},
   "outputs": [],
   "source": [
    "# Loading all the needed Packages\n",
    "import pandas as pd\n",
    "import numpy as np\n",
    "import gurobipy as gp\n",
    "from gurobipy import GRB\n",
    "\n",
    "# Import classes from Class.ipynb\n",
    "from Class import *"
   ]
  },
  {
   "cell_type": "markdown",
   "metadata": {},
   "source": [
    "# PROBLEM 1"
   ]
  },
  {
   "cell_type": "markdown",
   "metadata": {},
   "source": [
    "## 1) Data Handling"
   ]
  },
  {
   "cell_type": "code",
   "execution_count": 19,
   "metadata": {},
   "outputs": [],
   "source": [
    "## PREPARING THE DATA\n",
    "\n",
    "# Load all CSV files\n",
    "Dem_Data = pd.read_excel('../Data/LoadProfile.xlsx', sheet_name='Python_Dem_Data')\n",
    "Uti_Data = pd.read_excel('../Data/LoadProfile.xlsx', sheet_name='Python_Uti_Data')\n",
    "Gen_E_Data = pd.read_excel('../Data/Generators_Existing.xlsx', sheet_name='Python_Gen_E_Data')\n",
    "Gen_N_Data = pd.read_excel('../Data/Generators_New.xlsx', sheet_name='Python_Gen_N_Data')\n",
    "Gen_E_MaxC_Data = pd.read_excel('../Data/GenerationProfile.xlsx', sheet_name='Python_Gen_E_MaxC_Data')\n",
    "Gen_N_MaxC_Data = pd.read_excel('../Data/GenerationProfile.xlsx', sheet_name='Python_Gen_N_MaxC_Data')\n",
    "\n",
    "# Export the needed matrices\n",
    "Dem = np.array(Dem_Data)    # Demand profile\n",
    "Uti = np.transpose(np.array(Uti_Data))   # Utility profile\n",
    "Gen_E_Cost = np.array(Gen_E_Data['Cost'])   # Existing Generators Operational Cost\n",
    "Gen_N_Cost = np.array(Gen_E_Data['Cost'])  # New Generators Operational Cost\n",
    "Gen_E_MaxC = np.array(Gen_E_MaxC_Data)  # Maximum Capacity of Existing Generators (Hourly profile if RES, Max capacity otherwise)\n",
    "Gen_N_MaxC = np.array(Gen_N_MaxC_Data)  # Maximum Capacity of New Generators (Hourly profile if RES, Max capacity otherwise)\n",
    "Gen_N_MaxInvCap = np.array(Gen_N_Data['MaxInv (MW)'])  # Maximum New Generators Capacity Investment (MW)\n",
    "Gen_N_InvCost = np.array(Gen_N_Data['C_CapInv ($/MW)'])  # New Generators Investment Cost ($/MW)\n",
    "Gen_E_Tech = np.array(Gen_E_Data['Technology'])  # Existing Generators Technology\n",
    "Gen_N_Tech = np.array(Gen_N_Data['Technology'])  # New Generators Technology\n",
    "\n",
    "# Fix the shape of matrices with only one column    \n",
    "Gen_E_Cost = Gen_E_Cost.reshape((Gen_E_Cost.shape[0], 1))\n",
    "Gen_N_Cost = Gen_N_Cost.reshape((Gen_N_Cost.shape[0], 1))\n",
    "Gen_N_MaxInvCap = Gen_N_MaxInvCap.reshape((Gen_N_MaxInvCap.shape[0], 1))\n",
    "Gen_N_InvCost = Gen_N_InvCost.reshape((Gen_N_InvCost.shape[0], 1))\n",
    "Gen_E_Tech = Gen_E_Tech.reshape((Gen_E_Tech.shape[0], 1))\n",
    "Gen_N_Tech = Gen_N_Tech.reshape((Gen_N_Tech.shape[0], 1))\n"
   ]
  },
  {
   "cell_type": "code",
   "execution_count": 20,
   "metadata": {},
   "outputs": [
    {
     "data": {
      "text/html": [
       "<div>\n",
       "<style scoped>\n",
       "    .dataframe tbody tr th:only-of-type {\n",
       "        vertical-align: middle;\n",
       "    }\n",
       "\n",
       "    .dataframe tbody tr th {\n",
       "        vertical-align: top;\n",
       "    }\n",
       "\n",
       "    .dataframe thead th {\n",
       "        text-align: right;\n",
       "    }\n",
       "</style>\n",
       "<table border=\"1\" class=\"dataframe\">\n",
       "  <thead>\n",
       "    <tr style=\"text-align: right;\">\n",
       "      <th></th>\n",
       "      <th>Name</th>\n",
       "      <th>Size</th>\n",
       "      <th>Content</th>\n",
       "    </tr>\n",
       "  </thead>\n",
       "  <tbody>\n",
       "    <tr>\n",
       "      <th>0</th>\n",
       "      <td>Dem</td>\n",
       "      <td>(3600, 17)</td>\n",
       "      <td>Demand for each load for each hour of the inve...</td>\n",
       "    </tr>\n",
       "    <tr>\n",
       "      <th>1</th>\n",
       "      <td>Uti</td>\n",
       "      <td>(17, 1)</td>\n",
       "      <td>Utility for each load for one hour</td>\n",
       "    </tr>\n",
       "    <tr>\n",
       "      <th>2</th>\n",
       "      <td>Gen_E_Cost</td>\n",
       "      <td>(16, 1)</td>\n",
       "      <td>Unit cost of each existing generator</td>\n",
       "    </tr>\n",
       "    <tr>\n",
       "      <th>3</th>\n",
       "      <td>Gen_N_Cost</td>\n",
       "      <td>(16, 1)</td>\n",
       "      <td>Unit cost of each new generator</td>\n",
       "    </tr>\n",
       "    <tr>\n",
       "      <th>4</th>\n",
       "      <td>Gen_E_MaxC</td>\n",
       "      <td>(3600, 16)</td>\n",
       "      <td>Maximum generation profile of each existing en...</td>\n",
       "    </tr>\n",
       "    <tr>\n",
       "      <th>5</th>\n",
       "      <td>Gen_N_Max_C</td>\n",
       "      <td>(3600, 16)</td>\n",
       "      <td>Maximum generation profile of each new energy ...</td>\n",
       "    </tr>\n",
       "    <tr>\n",
       "      <th>6</th>\n",
       "      <td>Gen_N_MaxInvCap</td>\n",
       "      <td>(16, 1)</td>\n",
       "      <td>Maximum capacity investment of each new generator</td>\n",
       "    </tr>\n",
       "    <tr>\n",
       "      <th>7</th>\n",
       "      <td>Gen_N_InvCost</td>\n",
       "      <td>(16, 1)</td>\n",
       "      <td>Unit Investment cost of each new generator</td>\n",
       "    </tr>\n",
       "    <tr>\n",
       "      <th>8</th>\n",
       "      <td>Gen_E_Tech</td>\n",
       "      <td>(16, 1)</td>\n",
       "      <td>Technology of each existing generator</td>\n",
       "    </tr>\n",
       "    <tr>\n",
       "      <th>9</th>\n",
       "      <td>Gen_N_Tech</td>\n",
       "      <td>(16, 1)</td>\n",
       "      <td>Technology of each new generator</td>\n",
       "    </tr>\n",
       "  </tbody>\n",
       "</table>\n",
       "</div>"
      ],
      "text/plain": [
       "              Name        Size  \\\n",
       "0              Dem  (3600, 17)   \n",
       "1              Uti     (17, 1)   \n",
       "2       Gen_E_Cost     (16, 1)   \n",
       "3       Gen_N_Cost     (16, 1)   \n",
       "4       Gen_E_MaxC  (3600, 16)   \n",
       "5      Gen_N_Max_C  (3600, 16)   \n",
       "6  Gen_N_MaxInvCap     (16, 1)   \n",
       "7    Gen_N_InvCost     (16, 1)   \n",
       "8       Gen_E_Tech     (16, 1)   \n",
       "9       Gen_N_Tech     (16, 1)   \n",
       "\n",
       "                                             Content  \n",
       "0  Demand for each load for each hour of the inve...  \n",
       "1                 Utility for each load for one hour  \n",
       "2               Unit cost of each existing generator  \n",
       "3                    Unit cost of each new generator  \n",
       "4  Maximum generation profile of each existing en...  \n",
       "5  Maximum generation profile of each new energy ...  \n",
       "6  Maximum capacity investment of each new generator  \n",
       "7         Unit Investment cost of each new generator  \n",
       "8              Technology of each existing generator  \n",
       "9                   Technology of each new generator  "
      ]
     },
     "execution_count": 20,
     "metadata": {},
     "output_type": "execute_result"
    }
   ],
   "source": [
    "## DATA INDEX\n",
    "\n",
    "# Create a Dataframe to store the name of each vector/matrix we will use, their size and their content\n",
    "Data_df = pd.DataFrame(columns=['Name', 'Size', 'Content'])\n",
    "Data_df['Name'] = ['Dem', 'Uti', 'Gen_E_Cost', 'Gen_N_Cost', 'Gen_E_MaxC', 'Gen_N_Max_C', 'Gen_N_MaxInvCap', 'Gen_N_InvCost', 'Gen_E_Tech', 'Gen_N_Tech']\n",
    "Data_df['Size'] = [Dem.shape, Uti.shape, Gen_E_Cost.shape, Gen_N_Cost.shape, Gen_E_MaxC.shape, Gen_N_MaxC.shape, Gen_N_MaxInvCap.shape, Gen_N_InvCost.shape, Gen_E_Tech.shape, Gen_N_Tech.shape]\n",
    "Data_df['Content'] = ['Demand for each load for each hour of the investment problem',\n",
    "                     'Utility for each load for one hour',\n",
    "                     'Unit cost of each existing generator',\n",
    "                     'Unit cost of each new generator',\n",
    "                     'Maximum generation profile of each existing energy source for each hour of the investment problem (Hourly profile if RES, Max capacity otherwise)',\n",
    "                     'Maximum generation profile of each new energy source for each hour of the investment problem (Hourly profile if RES, Max capacity otherwise)',\n",
    "                     'Maximum capacity investment of each new generator',\n",
    "                     'Unit Investment cost of each new generator',\n",
    "                     'Technology of each existing generator',\n",
    "                     'Technology of each new generator']\n",
    "Data_df"
   ]
  },
  {
   "cell_type": "code",
   "execution_count": 21,
   "metadata": {},
   "outputs": [],
   "source": [
    "## PARAMETERS DEFINITION\n",
    "\n",
    "# Time\n",
    "H = 24          # Hours in a day\n",
    "D = 5           # Typical days in a year\n",
    "Y = 30          # Years of the investment timeline\n",
    "N = H*D*Y       # Number of hours in the investment timeline    \n",
    "\n",
    "# Number of loads and generators\n",
    "N_dem = len(Dem[0,:])       # Number of loads\n",
    "N_gen_E = len(Gen_E_Cost)   # Number of existing generators\n",
    "N_gen_N = len(Gen_N_Cost)   # Number of new generators\n",
    "\n",
    "# Hyperparameters\n",
    "B = 1000000000    # Budget for the investment problem"
   ]
  },
  {
   "cell_type": "markdown",
   "metadata": {},
   "source": [
    "## 2) Optimisation model"
   ]
  },
  {
   "cell_type": "markdown",
   "metadata": {},
   "source": [
    "### Market Clearing"
   ]
  },
  {
   "cell_type": "code",
   "execution_count": 22,
   "metadata": {},
   "outputs": [],
   "source": [
    "## CREATE THE PARAMETERS AND DATA OBJECTS\n",
    "ParametersObj = Parameters(H, D, Y, N, N_dem, N_gen_E, N_gen_N, B)\n",
    "DataObj = InputData(Dem, Uti, Gen_E_Cost, Gen_N_Cost, Gen_E_MaxC, Gen_N_MaxC, Gen_N_MaxInvCap, Gen_N_InvCost/500, Gen_E_Tech, Gen_N_Tech)"
   ]
  },
  {
   "cell_type": "code",
   "execution_count": 23,
   "metadata": {},
   "outputs": [
    {
     "name": "stdout",
     "output_type": "stream",
     "text": [
      "Objective value:  3550323853.5573616\n",
      "    Hour         Load  Existing generators  Price\n",
      "0      1  1779.385188          1779.385188   40.0\n",
      "1      2  1650.595419          1650.595419   40.0\n",
      "2      3  1571.538513          1571.538513   40.0\n",
      "3      4  1562.649317          1562.649317   40.0\n",
      "4      5  1595.064126          1595.064126   40.0\n",
      "5      6  1620.124075          1620.124075   40.0\n",
      "6      7  2135.303208          2135.303208   50.0\n",
      "7      8  2255.132627          2255.132627   75.0\n",
      "8      9  2196.182934          2196.182934   75.0\n",
      "9     10  2111.414663          2111.414663   75.0\n",
      "10    11  2087.396136          2087.396136   75.0\n",
      "11    12  2193.375357          2193.375357   75.0\n",
      "12    13  2370.720618          2370.720618   75.0\n",
      "13    14  2635.375001          2635.375001   75.0\n",
      "14    15  2859.687964          2859.687964   75.0\n",
      "15    16  3030.423478          3030.423478   75.0\n",
      "16    17  3096.497028          3096.497028   75.0\n",
      "17    18  3151.103269          3151.103269   75.0\n",
      "18    19  3081.697500          3081.697500   50.0\n",
      "19    20  2922.668521          2922.668521   50.0\n",
      "20    21  2887.833722          2887.833722   50.0\n",
      "21    22  2616.857801          2616.857801   50.0\n",
      "22    23  2232.925258          2232.925258   40.0\n",
      "23    24  1884.260652          1884.260652   40.0\n"
     ]
    }
   ],
   "source": [
    "# Ruun the Market Clearing Problem\n",
    "MarketClearingPB = MarketClearingProblem(ParametersObj, DataObj)"
   ]
  },
  {
   "cell_type": "markdown",
   "metadata": {},
   "source": [
    "### Investment Problem"
   ]
  },
  {
   "cell_type": "code",
   "execution_count": 24,
   "metadata": {},
   "outputs": [
    {
     "name": "stdout",
     "output_type": "stream",
     "text": [
      "Objective value:  1000108000.0\n",
      "   Technology  Invested capacity (MW)\n",
      "0        Coal                     0.0\n",
      "1        Coal                     0.0\n",
      "2        Coal                   200.0\n",
      "3         Gas                     0.0\n",
      "4         Gas                     0.0\n",
      "5        Coal                     0.0\n",
      "6        Coal                     0.0\n",
      "7        Wind                     0.0\n",
      "8        Wind                     0.0\n",
      "9          PV                     0.0\n",
      "10       Wind                     0.0\n",
      "11       Wind                     0.0\n",
      "12       Wind                     0.0\n",
      "13        Gas                     0.0\n",
      "14         PV                     0.0\n",
      "15       Coal                   200.0\n"
     ]
    }
   ],
   "source": [
    "# Run the investmentmodel\n",
    "InvestmentPB = InvestmentProblem(ParametersObj, DataObj, MarketClearingPB.res.DA_price)"
   ]
  }
 ],
 "metadata": {
  "kernelspec": {
   "display_name": "my_environment",
   "language": "python",
   "name": "python3"
  },
  "language_info": {
   "codemirror_mode": {
    "name": "ipython",
    "version": 3
   },
   "file_extension": ".py",
   "mimetype": "text/x-python",
   "name": "python",
   "nbconvert_exporter": "python",
   "pygments_lexer": "ipython3",
   "version": "3.11.5"
  }
 },
 "nbformat": 4,
 "nbformat_minor": 2
}
