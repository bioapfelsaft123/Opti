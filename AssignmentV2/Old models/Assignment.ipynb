{
 "cells": [
  {
   "cell_type": "code",
   "execution_count": 15,
   "metadata": {},
   "outputs": [],
   "source": [
    "# Loading all the needed Packages\n",
    "import pandas as pd\n",
    "import numpy as np\n",
    "import gurobipy as gp\n",
    "from gurobipy import GRB"
   ]
  },
  {
   "cell_type": "code",
   "execution_count": 16,
   "metadata": {},
   "outputs": [],
   "source": [
    "# Load all CSV files\n",
    "\n",
    "Dem_data = pd.read_excel('../Data/Data_demand.xlsx', sheet_name='Python_dem')\n",
    "Dem_U = pd.read_excel('../Data/Data_demand.xlsx', sheet_name='Python_U')\n",
    "Generators = pd.read_excel('../Data/Generators_Existing.xlsx', sheet_name='python')\n",
    "Pmax_gen = Generators['P_max'] \n",
    "Cost_gen = Generators['cost']\n",
    "\n",
    "Dem_data = np.array(Dem_data)\n",
    "Dem_U = np.array(Dem_U)\n",
    "Pmax_gen = np.array(Pmax_gen)\n",
    "Cost_gen = np.array(Cost_gen)\n"
   ]
  },
  {
   "cell_type": "code",
   "execution_count": 17,
   "metadata": {},
   "outputs": [
    {
     "data": {
      "text/plain": [
       "array([[ 73.41654414,  65.68848686, 121.71690213, ..., 226.04567539,\n",
       "        123.64891645,  86.94064438],\n",
       "       [ 68.10274257,  60.93403283, 112.90717848, ..., 209.68476003,\n",
       "        114.69935591,  80.64798463],\n",
       "       [ 64.84089414,  58.01553687, 107.49937713, ..., 199.64170039,\n",
       "        109.20571645,  76.78526938],\n",
       "       ...,\n",
       "       [140.88515567, 126.05513928, 233.57275808, ..., 433.7779793 ,\n",
       "        237.28026218, 166.83768435],\n",
       "       [120.16936636, 107.51995937, 199.22816001, ..., 369.99515431,\n",
       "        202.39051176, 142.30582858],\n",
       "       [ 99.90164103,  89.38567882, 165.62640486, ..., 307.59189475,\n",
       "        168.25539542, 118.3045749 ]])"
      ]
     },
     "execution_count": 17,
     "metadata": {},
     "output_type": "execute_result"
    }
   ],
   "source": [
    "Dem_data"
   ]
  },
  {
   "cell_type": "code",
   "execution_count": 18,
   "metadata": {},
   "outputs": [],
   "source": [
    "# PARAMETERS (we need to create another excel file with all the parameters, like the number of hours and so on) (no data on the code)\n",
    "\n",
    "hours = 3600\n",
    "\n",
    "N_dem = 17\n",
    "\n",
    "N_gen_E = 16"
   ]
  },
  {
   "cell_type": "code",
   "execution_count": 19,
   "metadata": {},
   "outputs": [],
   "source": [
    "# MODEL\n",
    "model = gp.Model(\"DA market clearing\")"
   ]
  },
  {
   "cell_type": "code",
   "execution_count": 20,
   "metadata": {},
   "outputs": [],
   "source": [
    "# VARIABLES\n",
    "\n",
    "d = model.addMVar((hours,N_dem), lb=0) # demand per hour in every demand\n",
    "p = model.addMVar((hours,N_gen_E), lb=0) # power output per hour for every generator"
   ]
  },
  {
   "cell_type": "code",
   "execution_count": 21,
   "metadata": {},
   "outputs": [],
   "source": [
    "# Constraints\n",
    "\n",
    "max_dem = model.addConstr( d <= Dem_data, name='max_dem')\n",
    "\n"
   ]
  },
  {
   "cell_type": "code",
   "execution_count": 22,
   "metadata": {},
   "outputs": [],
   "source": [
    "for h in range(hours):\n",
    "    max_cap = model.addConstr( p[h,:] <= Pmax_gen, name='max_cap')"
   ]
  },
  {
   "cell_type": "code",
   "execution_count": 23,
   "metadata": {},
   "outputs": [],
   "source": [
    "# OBJECTIVE FUNCTION\n",
    "\n",
    "objective = gp.quicksum( d[h,:] @ Dem_U + p[h,:] @ Cost_gen for h in range(hours))"
   ]
  },
  {
   "cell_type": "code",
   "execution_count": 26,
   "metadata": {},
   "outputs": [
    {
     "name": "stdout",
     "output_type": "stream",
     "text": [
      "Gurobi Optimizer version 10.0.2 build v10.0.2rc0 (win64)\n",
      "\n",
      "CPU model: Intel(R) Core(TM) i7-8550U CPU @ 1.80GHz, instruction set [SSE2|AVX|AVX2]\n",
      "Thread count: 4 physical cores, 8 logical processors, using up to 8 threads\n",
      "\n",
      "Optimize a model with 118800 rows, 118800 columns and 118800 nonzeros\n",
      "Model fingerprint: 0x0eb14eec\n",
      "Coefficient statistics:\n",
      "  Matrix range     [1e+00, 1e+00]\n",
      "  Objective range  [3e+01, 1e+03]\n",
      "  Bounds range     [0e+00, 0e+00]\n",
      "  RHS range        [3e+01, 6e+02]\n",
      "Presolve removed 118800 rows and 118800 columns\n",
      "Presolve time: 0.08s\n",
      "Presolve: All rows and columns removed\n",
      "Iteration    Objective       Primal Inf.    Dual Inf.      Time\n",
      "       0    4.2165139e+09   0.000000e+00   0.000000e+00      0s\n",
      "\n",
      "Solved in 0 iterations and 0.16 seconds (0.05 work units)\n",
      "Optimal objective  4.216513890e+09\n"
     ]
    }
   ],
   "source": [
    "model.setObjective(objective, GRB.MAXIMIZE)\n",
    "model.optimize()\n"
   ]
  },
  {
   "cell_type": "code",
   "execution_count": 27,
   "metadata": {},
   "outputs": [
    {
     "data": {
      "text/plain": [
       "4216513890.286416"
      ]
     },
     "execution_count": 27,
     "metadata": {},
     "output_type": "execute_result"
    }
   ],
   "source": [
    "model.objVal"
   ]
  },
  {
   "cell_type": "code",
   "execution_count": 28,
   "metadata": {},
   "outputs": [
    {
     "data": {
      "text/plain": [
       "array([152., 152., 350., 591.,  60., 155., 155.,   0.,   0.,   0.,   0.,\n",
       "         0.,   0., 100.,   0., 200.])"
      ]
     },
     "execution_count": 28,
     "metadata": {},
     "output_type": "execute_result"
    }
   ],
   "source": [
    "p[5].x"
   ]
  },
  {
   "cell_type": "code",
   "execution_count": 29,
   "metadata": {},
   "outputs": [
    {
     "data": {
      "text/plain": [
       "array([152, 152, 350, 591,  60, 155, 155, 400, 400, 300, 310, 350, 500,\n",
       "       100,  60, 200], dtype=int64)"
      ]
     },
     "execution_count": 29,
     "metadata": {},
     "output_type": "execute_result"
    }
   ],
   "source": [
    "Pmax_gen"
   ]
  },
  {
   "cell_type": "code",
   "execution_count": null,
   "metadata": {},
   "outputs": [],
   "source": []
  }
 ],
 "metadata": {
  "kernelspec": {
   "display_name": "base",
   "language": "python",
   "name": "python3"
  },
  "language_info": {
   "codemirror_mode": {
    "name": "ipython",
    "version": 3
   },
   "file_extension": ".py",
   "mimetype": "text/x-python",
   "name": "python",
   "nbconvert_exporter": "python",
   "pygments_lexer": "ipython3",
   "version": "3.9.13"
  }
 },
 "nbformat": 4,
 "nbformat_minor": 2
}
