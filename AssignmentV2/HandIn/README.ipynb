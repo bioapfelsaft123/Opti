{
 "cells": [
  {
   "cell_type": "markdown",
   "metadata": {},
   "source": [
    "This hand in contains three code files and one folder which includes all the data needed to run the code.\n",
    "The only file that needs to get executed, is the \"Execute Classes\" file, all classes are being called from this file.\n",
    "The classes themself are define in the \"Classes\" file. In the Data Handling file the data is importet and processed to matrices. Also the scenarios are created there.\n",
    "If the models shall be run faster, the number of train and test scenarios can be changed in the data handling file. Note that after changing something in the data handling file, the kernel needs to be restarted before running the \"Execute Classes\" file."
   ]
  }
 ],
 "metadata": {
  "kernelspec": {
   "display_name": "Python 3",
   "language": "python",
   "name": "python3"
  },
  "language_info": {
   "codemirror_mode": {
    "name": "ipython",
    "version": 3
   },
   "file_extension": ".py",
   "mimetype": "text/x-python",
   "name": "python",
   "nbconvert_exporter": "python",
   "pygments_lexer": "ipython3",
   "version": "3.11.9"
  }
 },
 "nbformat": 4,
 "nbformat_minor": 2
}
