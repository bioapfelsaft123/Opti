{
 "cells": [
  {
   "cell_type": "code",
   "execution_count": 7,
   "metadata": {},
   "outputs": [],
   "source": [
    "#Loading all the needed Packages\n",
    "import pandas as pd\n",
    "import numpy as np\n",
    "import gurobipy as gp\n",
    "from gurobipy import GRB\n"
   ]
  },
  {
   "cell_type": "code",
   "execution_count": 9,
   "metadata": {},
   "outputs": [],
   "source": [
    "# # Load all CSV files\n",
    "Demand_Data_Normalized = pd.read_csv('../Data/ModelData/Demand_UnitSpecificData.csv', delimiter=',')\n",
    "Fuel_Cost_Data_Normalized = pd.read_csv('../Data\\ModelData\\FuelCost_PriceDevelopment50years.csv', delimiter=',')\n",
    "Generation_Data_Normalized = pd.read_csv('../Data\\ModelData\\VRE_YearlyGenerationProfile_Normalized.csv', delimiter=',')\n",
    "Generation_Asset_Data_Existing = pd.read_csv('../Data\\ModelData\\Generators_AssetData_Existing.csv', delimiter=',')\n",
    "Demand_Unit_Data = pd.read_csv('../Data\\ModelData\\Demand_UnitSpecificData.csv', delimiter=',')\n",
    "System_Demand = pd.read_csv('../Data\\ModelData\\System_Demand.csv', delimiter=',')\n",
    "TransmissionCapacity = pd.read_csv('../Data\\ModelData\\Transmission Capacity.csv', delimiter=',')"
   ]
  },
  {
   "cell_type": "code",
   "execution_count": null,
   "metadata": {},
   "outputs": [],
   "source": [
    "import os\n",
    "print(os.getcwd())"
   ]
  },
  {
   "cell_type": "code",
   "execution_count": null,
   "metadata": {},
   "outputs": [],
   "source": [
    "os.chdir('Opti')"
   ]
  },
  {
   "cell_type": "markdown",
   "metadata": {},
   "source": [
    "## Problem 1 - Market clearing as price taker where investment does not influence the market clearing"
   ]
  },
  {
   "cell_type": "code",
   "execution_count": null,
   "metadata": {},
   "outputs": [],
   "source": [
    "#Creating a function for the market clearing\n",
    "\n",
    "def MarketClearingProblem1(Demand_Data_Normalized,\n",
    "                           Fuel_Cost_Data_Normalized,\n",
    "                           Generation_Data_Normalized,\n",
    "                           Generation_Asset_Data_Existing,\n",
    "                           Demand_Unit_Data,\n",
    "                           System_Demand,Season):\n",
    "    model = gp.Model(\"MarketClearingProblem1\")\n",
    "\n",
    "    #Defining some iput data\n",
    "\n",
    "    #Define the number of generators by taking the length of the Generation_Asset_Data_Existing file\n",
    "    Number_of_Generators = len(Generation_Asset_Data_Existing)\n",
    "    Number_of_Price_Zones = 2\n",
    "    Number_of_Demand_Units = len(Demand_Unit_Data)\n",
    "    Number_of_Hours = 24\n",
    "\n",
    "    #Data Handling\n",
    "\n",
    "    #Creating a data frame that contains the demand utility for each demand unit for the season that is modeled\n",
    "    #Inializing an empty data frame, with 24 hours as columns and number of demand units as rows\n",
    "\n",
    "    Demand_Utility = pd.DataFrame(index=range(len(Demand_Unit_Data)), columns=[f\"Hour{i}\" for i in range(Number_of_Hours)])\n",
    "    \n",
    "    for a in range(len(Demand_Unit_Data)):\n",
    "        LoadType = Demand_Unit_Data['LoadType'][a]\n",
    "        for b in range(len(Demand_Data_Normalized)):\n",
    "            Season_filtered_Demand_Data = Demand_Data_Normalized[Demand_Data_Normalized['Season'] == season]\n",
    "            Demand_Utility[:,Season_filtered_Demand_Data[LoadType]]\n",
    "            \n",
    "                Demand_Unit_Data['Utility'] = Demand_Data_Normalized['U']\n",
    "\n",
    "    #-----------------------------------------------------------------------------------------------------------------\n",
    "\n",
    "    #Defining the decision variables\n",
    "\n",
    "    # Defining a variable for the generators day ahead bid\n",
    "    Gen_DABid = model.addVars(Number_of_Generators, vtype=GRB.CONTINUOUS, name=\"Gen_DABid\")\n",
    "     # Defining a variable for the demand day ahead bid\n",
    "    Dem_DABid = model.addVars(Number_of_Demand_Units, vtype=GRB.CONTINUOUS, name=\"Dem_DABid\")\n",
    "    # Define voltage angle variables for each zone\n",
    "    Voltage_Angle = model.addVars(Number_of_Price_Zones, vtype=GRB.CONTINUOUS, name=\"Voltage_Angle\")\n",
    "    # Define power flow variables (as before, but now dependent on voltage angles)\n",
    "    Power_Flow = model.addVars(len(Transmission_Capacity), vtype=GRB.CONTINUOUS, lb=-GRB.INFINITY, name=\"Power_Flow\")\n",
    "    \n",
    "    #-----------------------------------------------------------------------------------------------------------------\n",
    "\n",
    "    #Defining objective function\n",
    "\n",
    "    #Objective function that maximizes social welfare\n",
    "    objective = (gp.quicksum(Generation_Asset_Data_Existing['C_i ($/MWh)'][g] * Gen_DABid[g] for g in range(Number_of_Generators)) \n",
    "                - gp.quicksum(Dem['C_i ($/MWh)'][g] * Gen_DABid[g] for g in range(Number_of_Generators)))\n",
    "    model.setObjective(objective, GRB.MINIMIZE)\n",
    "    \n",
    "    # Add slack bus constraint: Fix the voltage angle of node 1 (or any other node) to 0 degrees\n",
    "    model.addConstr(Voltage_Angle[0] == 0, name=\"Slack_Bus\")\n",
    "\n",
    "\n"
   ]
  },
  {
   "cell_type": "code",
   "execution_count": null,
   "metadata": {},
   "outputs": [],
   "source": [
    "df = pd.DataFrame(index=range(len(Demand_Unit_Data)), columns=[f\"Hour{i}\" for i in range(Number_of_Hours)])"
   ]
  },
  {
   "cell_type": "code",
   "execution_count": null,
   "metadata": {},
   "outputs": [],
   "source": [
    "\n",
    "\n",
    "Season_filtered_Demand_Data = Demand_Data_Normalized[Demand_Data_Normalized['Season'] == season]"
   ]
  },
  {
   "cell_type": "code",
   "execution_count": null,
   "metadata": {},
   "outputs": [],
   "source": [
    "Season_filtered_Demand_Data['LoadType']"
   ]
  },
  {
   "cell_type": "code",
   "execution_count": null,
   "metadata": {},
   "outputs": [],
   "source": [
    "LoadType = 'D_residential'"
   ]
  },
  {
   "cell_type": "code",
   "execution_count": null,
   "metadata": {},
   "outputs": [],
   "source": [
    "import pandas as pd\n",
    "\n",
    "# Assume Demand_Unit_Data and Demand_Data_Normalized are already loaded DataFrames\n",
    "# season_value is provided externally\n",
    "\n",
    "# Filter Demand_Data_Normalized by the given season\n",
    "season_data = Demand_Data_Normalized[Demand_Data_Normalized['Season'] == season]\n",
    "\n",
    "# Create an empty DataFrame to store the results, with 24 columns for each hour\n",
    "result_data = pd.DataFrame(columns=[f'Hour_{i+1}' for i in range(24)])\n",
    "\n",
    "# Loop through each row in Demand_Unit_Data\n",
    "for _, row in Demand_Unit_Data.iterrows():\n",
    "    load_type = row['LoadType'].strip()  # Load type (e.g., 'U_Residential', 'U_IndustryBase', 'U_IndustryPeak')\n",
    "    percent_load = row['% of system load'] / 100  # Scale factor as a fraction\n",
    "    \n",
    "    # Check if the load type exists in the Demand_Data_Normalized columns\n",
    "    if load_type in season_data.columns:\n",
    "        # Retrieve the hourly values for the specified load type and scale them\n",
    "        hourly_values = season_data[season_data['Hour'] <= 24][load_type].values * percent_load\n",
    "        \n",
    "        # Create a new row with these hourly values\n",
    "        row_data = pd.DataFrame([hourly_values], columns=[f'Hour_{i+1}' for i in range(24)])\n",
    "        \n",
    "        # Add identifying columns (like Load #, Zone, and LoadType) for clarity\n",
    "        row_data['Load #'] = row['Load #']\n",
    "        row_data['Zone'] = row['Zone']\n",
    "        row_data['LoadType'] = load_type\n",
    "        \n",
    "        # Append the new row to the result_data DataFrame\n",
    "        result_data = pd.concat([result_data, row_data], ignore_index=True)\n",
    "\n",
    "# Reset index and inspect result\n",
    "result_data.reset_index(drop=True, inplace=True)\n",
    "print(result_data)\n"
   ]
  }
 ],
 "metadata": {
  "kernelspec": {
   "display_name": "Python 3",
   "language": "python",
   "name": "python3"
  },
  "language_info": {
   "codemirror_mode": {
    "name": "ipython",
    "version": 3
   },
   "file_extension": ".py",
   "mimetype": "text/x-python",
   "name": "python",
   "nbconvert_exporter": "python",
   "pygments_lexer": "ipython3",
   "version": "3.11.9"
  }
 },
 "nbformat": 4,
 "nbformat_minor": 2
}
