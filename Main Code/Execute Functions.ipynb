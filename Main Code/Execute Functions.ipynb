{
 "cells": [
  {
   "cell_type": "code",
   "execution_count": 1,
   "metadata": {},
   "outputs": [],
   "source": [
    "# Loading all the needed Packages\n",
    "import pandas as pd\n",
    "import numpy as np\n",
    "import gurobipy as gp\n",
    "from gurobipy import GRB\n",
    "import nbimporter\n",
    "import matplotlib.pyplot as plt\n",
    "import seaborn as sns\n",
    "\n",
    "# Loading the functions\n",
    "from DayAhead_Problem1 import LongTermMarketResults,MarketClearingProblem1, InvestmentProblem\n"
   ]
  },
  {
   "cell_type": "code",
   "execution_count": null,
   "metadata": {},
   "outputs": [],
   "source": []
  },
  {
   "cell_type": "code",
   "execution_count": 2,
   "metadata": {},
   "outputs": [],
   "source": [
    "# # Load all CSV files\n",
    "Demand_Data_Normalized = pd.read_csv('../Data/ModelData/Demand_YearlyDemandUtilityProfile_Normalized.csv', delimiter=',')\n",
    "Fuel_Cost_Data_Normalized = pd.read_csv('../Data\\ModelData\\FuelCost_PriceDevelopment50years.csv', delimiter=',')\n",
    "Generation_Data_Normalized = pd.read_csv('../Data\\ModelData\\VRE_YearlyGenerationProfile_Normalized.csv', delimiter=',')\n",
    "Generation_Asset_Data_Existing = pd.read_csv('../Data\\ModelData\\Generators_AssetData_Existing.csv', delimiter=',')\n",
    "Demand_Unit_Data = pd.read_csv('../Data\\ModelData\\Demand_UnitSpecificData.csv', delimiter=',')\n",
    "System_Demand = pd.read_csv('../Data\\ModelData\\System_Demand.csv', delimiter=',')\n",
    "Transmission_Capacity = pd.read_csv('../Data\\ModelData\\Transmission Capacity.csv', delimiter=',')\n",
    "Fuel_Cost_Absolute = pd.read_csv('../Data\\ModelData\\Fuel_Cost_Absolute.csv', delimiter=',')\n",
    "Demand_Developement = pd.read_csv('../Data\\ModelData\\Demand_Development.csv', delimiter=',')\n",
    "Generation_Asset_Data_New = pd.read_csv('../Data\\ModelData\\Generators_AssetData_New.csv', delimiter=',')"
   ]
  },
  {
   "cell_type": "markdown",
   "metadata": {},
   "source": [
    "## Defining Input Variables"
   ]
  },
  {
   "cell_type": "code",
   "execution_count": 3,
   "metadata": {},
   "outputs": [],
   "source": [
    "Number_of_Seasons = 5\n",
    "Number_of_Years = 2\n",
    "Number_of_Generators= len(Generation_Asset_Data_Existing)\n",
    "Number_of_Demand_Units = len(Demand_Unit_Data)\n",
    "Number_of_Price_Zones = 2\n",
    "Number_of_Hours = 24\n",
    "budget = 1000000000"
   ]
  },
  {
   "cell_type": "code",
   "execution_count": null,
   "metadata": {},
   "outputs": [],
   "source": [
    "Yearly_Season_Daily_Results = LongTermMarketResults(Demand_Data_Normalized,\n",
    "                           Fuel_Cost_Data_Normalized,\n",
    "                           Generation_Data_Normalized,\n",
    "                           Generation_Asset_Data_Existing,\n",
    "                           Demand_Unit_Data,\n",
    "                           System_Demand,\n",
    "                           Transmission_Capacity,\n",
    "                           Demand_Developement,\n",
    "                           Number_of_Price_Zones,\n",
    "                           Number_of_Generators,\n",
    "                           Number_of_Demand_Units,\n",
    "                           Number_of_Years,\n",
    "                           Number_of_Seasons,\n",
    "                           Number_of_Hours)"
   ]
  },
  {
   "cell_type": "code",
   "execution_count": null,
   "metadata": {},
   "outputs": [],
   "source": [
    "df1,df2,df2_grouped,df2_grouped_profit, profits = InvestmentProblem(Yearly_Season_Daily_Results, Generation_Asset_Data_New, Fuel_Cost_Data_Normalized,Fuel_Cost_Absolute,Generation_Data_Normalized,budget)"
   ]
  }
 ],
 "metadata": {
  "kernelspec": {
   "display_name": "Python 3",
   "language": "python",
   "name": "python3"
  },
  "language_info": {
   "codemirror_mode": {
    "name": "ipython",
    "version": 3
   },
   "file_extension": ".py",
   "mimetype": "text/x-python",
   "name": "python",
   "nbconvert_exporter": "python",
   "pygments_lexer": "ipython3",
   "version": "3.11.9"
  }
 },
 "nbformat": 4,
 "nbformat_minor": 2
}
